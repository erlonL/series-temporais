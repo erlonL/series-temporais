{
  "cells": [
    {
      "cell_type": "markdown",
      "metadata": {
        "colab_type": "text",
        "id": "view-in-github"
      },
      "source": [
        "<a href=\"https://colab.research.google.com/github/erlonL/series-temporais/blob/main/ST_Projeto2.ipynb\" target=\"_parent\"><img src=\"https://colab.research.google.com/assets/colab-badge.svg\" alt=\"Open In Colab\"/></a>"
      ]
    },
    {
      "cell_type": "code",
      "execution_count": 1,
      "metadata": {
        "id": "wx5yIpzsIYNn"
      },
      "outputs": [
        {
          "name": "stdout",
          "output_type": "stream",
          "text": [
            "Requirement already satisfied: yfinance in /home/erlo/.local/lib/python3.12/site-packages (0.2.44)\n",
            "Requirement already satisfied: snscrape in /home/erlo/.local/lib/python3.12/site-packages (0.7.0.20230622)\n",
            "Requirement already satisfied: pandas_market_calendars in /home/erlo/.local/lib/python3.12/site-packages (4.4.1)\n",
            "Requirement already satisfied: pandas_datareader in /home/erlo/.local/lib/python3.12/site-packages (0.10.0)\n",
            "Requirement already satisfied: transformers in /home/erlo/.local/lib/python3.12/site-packages (4.45.1)\n",
            "Requirement already satisfied: torch in /home/erlo/.local/lib/python3.12/site-packages (2.4.1)\n",
            "Requirement already satisfied: nltk in /home/erlo/.local/lib/python3.12/site-packages (3.9.1)\n",
            "Requirement already satisfied: tqdm in /home/erlo/.local/lib/python3.12/site-packages (4.66.5)\n",
            "Requirement already satisfied: IPython in /usr/lib/python3/dist-packages (8.20.0)\n",
            "Requirement already satisfied: jupyter in /home/erlo/.local/lib/python3.12/site-packages (1.1.1)\n",
            "Requirement already satisfied: ipywidgets in /home/erlo/.local/lib/python3.12/site-packages (8.1.5)\n",
            "Requirement already satisfied: tensorflow in /home/erlo/.local/lib/python3.12/site-packages (2.17.0)\n",
            "Requirement already satisfied: tf-keras in /home/erlo/.local/lib/python3.12/site-packages (2.17.0)\n",
            "Requirement already satisfied: seaborn in /home/erlo/.local/lib/python3.12/site-packages (0.13.2)\n",
            "Requirement already satisfied: pandas>=1.3.0 in /home/erlo/.local/lib/python3.12/site-packages (from yfinance) (2.2.3)\n",
            "Requirement already satisfied: numpy>=1.16.5 in /usr/lib/python3/dist-packages (from yfinance) (1.26.4)\n",
            "Requirement already satisfied: requests>=2.31 in /usr/lib/python3/dist-packages (from yfinance) (2.31.0)\n",
            "Requirement already satisfied: multitasking>=0.0.7 in /home/erlo/.local/lib/python3.12/site-packages (from yfinance) (0.0.11)\n",
            "Requirement already satisfied: lxml>=4.9.1 in /usr/lib/python3/dist-packages (from yfinance) (5.2.1)\n",
            "Requirement already satisfied: platformdirs>=2.0.0 in /usr/lib/python3/dist-packages (from yfinance) (4.2.0)\n",
            "Requirement already satisfied: pytz>=2022.5 in /usr/lib/python3/dist-packages (from yfinance) (2024.1)\n",
            "Requirement already satisfied: frozendict>=2.3.4 in /home/erlo/.local/lib/python3.12/site-packages (from yfinance) (2.4.4)\n",
            "Requirement already satisfied: peewee>=3.16.2 in /home/erlo/.local/lib/python3.12/site-packages (from yfinance) (3.17.6)\n",
            "Requirement already satisfied: beautifulsoup4>=4.11.1 in /usr/lib/python3/dist-packages (from yfinance) (4.12.3)\n",
            "Requirement already satisfied: html5lib>=1.1 in /usr/lib/python3/dist-packages (from yfinance) (1.1)\n",
            "Requirement already satisfied: filelock in /usr/lib/python3/dist-packages (from snscrape) (3.13.1)\n",
            "Requirement already satisfied: python-dateutil in /usr/lib/python3/dist-packages (from pandas_market_calendars) (2.8.2)\n",
            "Requirement already satisfied: exchange-calendars>=3.3 in /home/erlo/.local/lib/python3.12/site-packages (from pandas_market_calendars) (4.5.6)\n",
            "Requirement already satisfied: huggingface-hub<1.0,>=0.23.2 in /home/erlo/.local/lib/python3.12/site-packages (from transformers) (0.25.1)\n",
            "Requirement already satisfied: packaging>=20.0 in /usr/lib/python3/dist-packages (from transformers) (24.0)\n",
            "Requirement already satisfied: pyyaml>=5.1 in /usr/lib/python3/dist-packages (from transformers) (6.0.1)\n",
            "Requirement already satisfied: regex!=2019.12.17 in /home/erlo/.local/lib/python3.12/site-packages (from transformers) (2024.9.11)\n",
            "Requirement already satisfied: safetensors>=0.4.1 in /home/erlo/.local/lib/python3.12/site-packages (from transformers) (0.4.5)\n",
            "Requirement already satisfied: tokenizers<0.21,>=0.20 in /home/erlo/.local/lib/python3.12/site-packages (from transformers) (0.20.0)\n",
            "Requirement already satisfied: typing-extensions>=4.8.0 in /usr/lib/python3/dist-packages (from torch) (4.10.0)\n",
            "Requirement already satisfied: sympy in /usr/lib/python3/dist-packages (from torch) (1.12)\n",
            "Requirement already satisfied: networkx in /home/erlo/.local/lib/python3.12/site-packages (from torch) (3.3)\n",
            "Requirement already satisfied: jinja2 in /usr/lib/python3/dist-packages (from torch) (3.1.2)\n",
            "Requirement already satisfied: fsspec in /home/erlo/.local/lib/python3.12/site-packages (from torch) (2024.9.0)\n",
            "Requirement already satisfied: setuptools in /usr/lib/python3/dist-packages (from torch) (68.1.2)\n",
            "Requirement already satisfied: nvidia-cuda-nvrtc-cu12==12.1.105 in /home/erlo/.local/lib/python3.12/site-packages (from torch) (12.1.105)\n",
            "Requirement already satisfied: nvidia-cuda-runtime-cu12==12.1.105 in /home/erlo/.local/lib/python3.12/site-packages (from torch) (12.1.105)\n",
            "Requirement already satisfied: nvidia-cuda-cupti-cu12==12.1.105 in /home/erlo/.local/lib/python3.12/site-packages (from torch) (12.1.105)\n",
            "Requirement already satisfied: nvidia-cudnn-cu12==9.1.0.70 in /home/erlo/.local/lib/python3.12/site-packages (from torch) (9.1.0.70)\n",
            "Requirement already satisfied: nvidia-cublas-cu12==12.1.3.1 in /home/erlo/.local/lib/python3.12/site-packages (from torch) (12.1.3.1)\n",
            "Requirement already satisfied: nvidia-cufft-cu12==11.0.2.54 in /home/erlo/.local/lib/python3.12/site-packages (from torch) (11.0.2.54)\n",
            "Requirement already satisfied: nvidia-curand-cu12==10.3.2.106 in /home/erlo/.local/lib/python3.12/site-packages (from torch) (10.3.2.106)\n",
            "Requirement already satisfied: nvidia-cusolver-cu12==11.4.5.107 in /home/erlo/.local/lib/python3.12/site-packages (from torch) (11.4.5.107)\n",
            "Requirement already satisfied: nvidia-cusparse-cu12==12.1.0.106 in /home/erlo/.local/lib/python3.12/site-packages (from torch) (12.1.0.106)\n",
            "Requirement already satisfied: nvidia-nccl-cu12==2.20.5 in /home/erlo/.local/lib/python3.12/site-packages (from torch) (2.20.5)\n",
            "Requirement already satisfied: nvidia-nvtx-cu12==12.1.105 in /home/erlo/.local/lib/python3.12/site-packages (from torch) (12.1.105)\n",
            "Requirement already satisfied: triton==3.0.0 in /home/erlo/.local/lib/python3.12/site-packages (from torch) (3.0.0)\n",
            "Requirement already satisfied: nvidia-nvjitlink-cu12 in /home/erlo/.local/lib/python3.12/site-packages (from nvidia-cusolver-cu12==11.4.5.107->torch) (12.6.68)\n",
            "Requirement already satisfied: click in /usr/lib/python3/dist-packages (from nltk) (8.1.6)\n",
            "Requirement already satisfied: joblib in /usr/lib/python3/dist-packages (from nltk) (1.3.2)\n",
            "Requirement already satisfied: decorator in /usr/lib/python3/dist-packages (from IPython) (5.1.1)\n",
            "Requirement already satisfied: jedi>=0.16 in /usr/lib/python3/dist-packages (from IPython) (0.19.1)\n",
            "Requirement already satisfied: matplotlib-inline in /usr/lib/python3/dist-packages (from IPython) (0.1.6)\n",
            "Requirement already satisfied: prompt-toolkit<3.1.0,>=3.0.41 in /usr/lib/python3/dist-packages (from IPython) (3.0.43)\n",
            "Requirement already satisfied: pygments>=2.4.0 in /usr/lib/python3/dist-packages (from IPython) (2.17.2)\n",
            "Requirement already satisfied: stack-data in /usr/lib/python3/dist-packages (from IPython) (0.6.3)\n",
            "Requirement already satisfied: traitlets>=5 in /home/erlo/.local/lib/python3.12/site-packages (from IPython) (5.14.3)\n",
            "Requirement already satisfied: pexpect>4.3 in /usr/lib/python3/dist-packages (from IPython) (4.9.0)\n",
            "Requirement already satisfied: notebook in /home/erlo/.local/lib/python3.12/site-packages (from jupyter) (7.2.2)\n",
            "Requirement already satisfied: jupyter-console in /home/erlo/.local/lib/python3.12/site-packages (from jupyter) (6.6.3)\n",
            "Requirement already satisfied: nbconvert in /home/erlo/.local/lib/python3.12/site-packages (from jupyter) (7.16.4)\n",
            "Requirement already satisfied: ipykernel in /usr/lib/python3/dist-packages (from jupyter) (6.29.3)\n",
            "Requirement already satisfied: jupyterlab in /home/erlo/.local/lib/python3.12/site-packages (from jupyter) (4.2.5)\n",
            "Requirement already satisfied: comm>=0.1.3 in /usr/lib/python3/dist-packages (from ipywidgets) (0.2.1)\n",
            "Requirement already satisfied: widgetsnbextension~=4.0.12 in /home/erlo/.local/lib/python3.12/site-packages (from ipywidgets) (4.0.13)\n",
            "Requirement already satisfied: jupyterlab-widgets~=3.0.12 in /home/erlo/.local/lib/python3.12/site-packages (from ipywidgets) (3.0.13)\n",
            "Requirement already satisfied: absl-py>=1.0.0 in /home/erlo/.local/lib/python3.12/site-packages (from tensorflow) (2.1.0)\n",
            "Requirement already satisfied: astunparse>=1.6.0 in /home/erlo/.local/lib/python3.12/site-packages (from tensorflow) (1.6.3)\n",
            "Requirement already satisfied: flatbuffers>=24.3.25 in /home/erlo/.local/lib/python3.12/site-packages (from tensorflow) (24.3.25)\n",
            "Requirement already satisfied: gast!=0.5.0,!=0.5.1,!=0.5.2,>=0.2.1 in /home/erlo/.local/lib/python3.12/site-packages (from tensorflow) (0.6.0)\n",
            "Requirement already satisfied: google-pasta>=0.1.1 in /home/erlo/.local/lib/python3.12/site-packages (from tensorflow) (0.2.0)\n",
            "Requirement already satisfied: h5py>=3.10.0 in /home/erlo/.local/lib/python3.12/site-packages (from tensorflow) (3.12.1)\n",
            "Requirement already satisfied: libclang>=13.0.0 in /home/erlo/.local/lib/python3.12/site-packages (from tensorflow) (18.1.1)\n",
            "Requirement already satisfied: ml-dtypes<0.5.0,>=0.3.1 in /home/erlo/.local/lib/python3.12/site-packages (from tensorflow) (0.4.1)\n",
            "Requirement already satisfied: opt-einsum>=2.3.2 in /home/erlo/.local/lib/python3.12/site-packages (from tensorflow) (3.4.0)\n",
            "Requirement already satisfied: protobuf!=4.21.0,!=4.21.1,!=4.21.2,!=4.21.3,!=4.21.4,!=4.21.5,<5.0.0dev,>=3.20.3 in /home/erlo/.local/lib/python3.12/site-packages (from tensorflow) (4.25.5)\n",
            "Requirement already satisfied: six>=1.12.0 in /usr/lib/python3/dist-packages (from tensorflow) (1.16.0)\n",
            "Requirement already satisfied: termcolor>=1.1.0 in /home/erlo/.local/lib/python3.12/site-packages (from tensorflow) (2.4.0)\n",
            "Requirement already satisfied: wrapt>=1.11.0 in /home/erlo/.local/lib/python3.12/site-packages (from tensorflow) (1.16.0)\n",
            "Requirement already satisfied: grpcio<2.0,>=1.24.3 in /home/erlo/.local/lib/python3.12/site-packages (from tensorflow) (1.66.2)\n",
            "Requirement already satisfied: tensorboard<2.18,>=2.17 in /home/erlo/.local/lib/python3.12/site-packages (from tensorflow) (2.17.1)\n",
            "Requirement already satisfied: keras>=3.2.0 in /home/erlo/.local/lib/python3.12/site-packages (from tensorflow) (3.5.0)\n",
            "Requirement already satisfied: matplotlib!=3.6.1,>=3.4 in /usr/lib/python3/dist-packages (from seaborn) (3.6.3)\n",
            "Requirement already satisfied: wheel<1.0,>=0.23.0 in /usr/lib/python3/dist-packages (from astunparse>=1.6.0->tensorflow) (0.42.0)\n",
            "Requirement already satisfied: soupsieve>1.2 in /usr/lib/python3/dist-packages (from beautifulsoup4>=4.11.1->yfinance) (2.5)\n",
            "Requirement already satisfied: pyluach in /home/erlo/.local/lib/python3.12/site-packages (from exchange-calendars>=3.3->pandas_market_calendars) (2.2.0)\n",
            "Requirement already satisfied: toolz in /home/erlo/.local/lib/python3.12/site-packages (from exchange-calendars>=3.3->pandas_market_calendars) (0.12.1)\n",
            "Requirement already satisfied: tzdata in /home/erlo/.local/lib/python3.12/site-packages (from exchange-calendars>=3.3->pandas_market_calendars) (2024.2)\n",
            "Requirement already satisfied: korean-lunar-calendar in /home/erlo/.local/lib/python3.12/site-packages (from exchange-calendars>=3.3->pandas_market_calendars) (0.3.1)\n",
            "Requirement already satisfied: rich in /usr/lib/python3/dist-packages (from keras>=3.2.0->tensorflow) (13.7.1)\n",
            "Requirement already satisfied: namex in /home/erlo/.local/lib/python3.12/site-packages (from keras>=3.2.0->tensorflow) (0.0.8)\n",
            "Requirement already satisfied: optree in /home/erlo/.local/lib/python3.12/site-packages (from keras>=3.2.0->tensorflow) (0.12.1)\n",
            "Requirement already satisfied: markdown>=2.6.8 in /home/erlo/.local/lib/python3.12/site-packages (from tensorboard<2.18,>=2.17->tensorflow) (3.7)\n",
            "Requirement already satisfied: tensorboard-data-server<0.8.0,>=0.7.0 in /home/erlo/.local/lib/python3.12/site-packages (from tensorboard<2.18,>=2.17->tensorflow) (0.7.2)\n",
            "Requirement already satisfied: werkzeug>=1.0.1 in /home/erlo/.local/lib/python3.12/site-packages (from tensorboard<2.18,>=2.17->tensorflow) (3.0.4)\n",
            "Requirement already satisfied: debugpy>=1.6.5 in /usr/lib/python3/dist-packages (from ipykernel->jupyter) (1.8.0)\n",
            "Requirement already satisfied: jupyter-client>=6.1.12 in /usr/lib/python3/dist-packages (from ipykernel->jupyter) (7.4.9)\n",
            "Requirement already satisfied: jupyter-core!=5.0.*,>=4.12 in /usr/lib/python3/dist-packages (from ipykernel->jupyter) (5.3.2)\n",
            "Requirement already satisfied: nest-asyncio in /usr/lib/python3/dist-packages (from ipykernel->jupyter) (1.5.4)\n",
            "Requirement already satisfied: psutil in /usr/lib/python3/dist-packages (from ipykernel->jupyter) (5.9.8)\n",
            "Requirement already satisfied: pyzmq>=24 in /usr/lib/python3/dist-packages (from ipykernel->jupyter) (24.0.1)\n",
            "Requirement already satisfied: tornado>=6.1 in /usr/lib/python3/dist-packages (from ipykernel->jupyter) (6.4)\n",
            "Requirement already satisfied: async-lru>=1.0.0 in /home/erlo/.local/lib/python3.12/site-packages (from jupyterlab->jupyter) (2.0.4)\n",
            "Requirement already satisfied: httpx>=0.25.0 in /home/erlo/.local/lib/python3.12/site-packages (from jupyterlab->jupyter) (0.27.2)\n",
            "Requirement already satisfied: jupyter-lsp>=2.0.0 in /home/erlo/.local/lib/python3.12/site-packages (from jupyterlab->jupyter) (2.2.5)\n",
            "Requirement already satisfied: jupyter-server<3,>=2.4.0 in /home/erlo/.local/lib/python3.12/site-packages (from jupyterlab->jupyter) (2.14.2)\n",
            "Requirement already satisfied: jupyterlab-server<3,>=2.27.1 in /home/erlo/.local/lib/python3.12/site-packages (from jupyterlab->jupyter) (2.27.3)\n",
            "Requirement already satisfied: notebook-shim>=0.2 in /home/erlo/.local/lib/python3.12/site-packages (from jupyterlab->jupyter) (0.2.4)\n",
            "Requirement already satisfied: bleach!=5.0.0 in /home/erlo/.local/lib/python3.12/site-packages (from nbconvert->jupyter) (6.1.0)\n",
            "Requirement already satisfied: defusedxml in /usr/lib/python3/dist-packages (from nbconvert->jupyter) (0.7.1)\n",
            "Requirement already satisfied: jupyterlab-pygments in /home/erlo/.local/lib/python3.12/site-packages (from nbconvert->jupyter) (0.3.0)\n",
            "Requirement already satisfied: markupsafe>=2.0 in /usr/lib/python3/dist-packages (from nbconvert->jupyter) (2.1.5)\n",
            "Requirement already satisfied: mistune<4,>=2.0.3 in /home/erlo/.local/lib/python3.12/site-packages (from nbconvert->jupyter) (3.0.2)\n",
            "Requirement already satisfied: nbclient>=0.5.0 in /home/erlo/.local/lib/python3.12/site-packages (from nbconvert->jupyter) (0.10.0)\n",
            "Requirement already satisfied: nbformat>=5.7 in /home/erlo/.local/lib/python3.12/site-packages (from nbconvert->jupyter) (5.10.4)\n",
            "Requirement already satisfied: pandocfilters>=1.4.1 in /home/erlo/.local/lib/python3.12/site-packages (from nbconvert->jupyter) (1.5.1)\n",
            "Requirement already satisfied: tinycss2 in /home/erlo/.local/lib/python3.12/site-packages (from nbconvert->jupyter) (1.3.0)\n",
            "Requirement already satisfied: PySocks!=1.5.7,>=1.5.6 in /home/erlo/.local/lib/python3.12/site-packages (from requests[socks]->snscrape) (1.7.1)\n",
            "Requirement already satisfied: asttokens>=2.1.0 in /usr/lib/python3/dist-packages (from stack-data->IPython) (2.4.1)\n",
            "Requirement already satisfied: executing>=1.2.0 in /usr/lib/python3/dist-packages (from stack-data->IPython) (2.0.1)\n",
            "Requirement already satisfied: pure-eval in /usr/lib/python3/dist-packages (from stack-data->IPython) (0.0.0)\n",
            "Requirement already satisfied: webencodings in /usr/lib/python3/dist-packages (from bleach!=5.0.0->nbconvert->jupyter) (0.5.1)\n",
            "Requirement already satisfied: anyio in /home/erlo/.local/lib/python3.12/site-packages (from httpx>=0.25.0->jupyterlab->jupyter) (4.6.0)\n",
            "Requirement already satisfied: certifi in /usr/lib/python3/dist-packages (from httpx>=0.25.0->jupyterlab->jupyter) (2023.11.17)\n",
            "Requirement already satisfied: httpcore==1.* in /home/erlo/.local/lib/python3.12/site-packages (from httpx>=0.25.0->jupyterlab->jupyter) (1.0.5)\n",
            "Requirement already satisfied: idna in /usr/lib/python3/dist-packages (from httpx>=0.25.0->jupyterlab->jupyter) (3.6)\n",
            "Requirement already satisfied: sniffio in /home/erlo/.local/lib/python3.12/site-packages (from httpx>=0.25.0->jupyterlab->jupyter) (1.3.1)\n",
            "Requirement already satisfied: h11<0.15,>=0.13 in /home/erlo/.local/lib/python3.12/site-packages (from httpcore==1.*->httpx>=0.25.0->jupyterlab->jupyter) (0.14.0)\n",
            "Requirement already satisfied: entrypoints in /usr/lib/python3/dist-packages (from jupyter-client>=6.1.12->ipykernel->jupyter) (0.4)\n",
            "Requirement already satisfied: argon2-cffi>=21.1 in /home/erlo/.local/lib/python3.12/site-packages (from jupyter-server<3,>=2.4.0->jupyterlab->jupyter) (23.1.0)\n",
            "Requirement already satisfied: jupyter-events>=0.9.0 in /home/erlo/.local/lib/python3.12/site-packages (from jupyter-server<3,>=2.4.0->jupyterlab->jupyter) (0.10.0)\n",
            "Requirement already satisfied: jupyter-server-terminals>=0.4.4 in /home/erlo/.local/lib/python3.12/site-packages (from jupyter-server<3,>=2.4.0->jupyterlab->jupyter) (0.5.3)\n",
            "Requirement already satisfied: overrides>=5.0 in /home/erlo/.local/lib/python3.12/site-packages (from jupyter-server<3,>=2.4.0->jupyterlab->jupyter) (7.7.0)\n",
            "Requirement already satisfied: prometheus-client>=0.9 in /home/erlo/.local/lib/python3.12/site-packages (from jupyter-server<3,>=2.4.0->jupyterlab->jupyter) (0.21.0)\n",
            "Requirement already satisfied: send2trash>=1.8.2 in /home/erlo/.local/lib/python3.12/site-packages (from jupyter-server<3,>=2.4.0->jupyterlab->jupyter) (1.8.3)\n",
            "Requirement already satisfied: terminado>=0.8.3 in /home/erlo/.local/lib/python3.12/site-packages (from jupyter-server<3,>=2.4.0->jupyterlab->jupyter) (0.18.1)\n",
            "Requirement already satisfied: websocket-client>=1.7 in /home/erlo/.local/lib/python3.12/site-packages (from jupyter-server<3,>=2.4.0->jupyterlab->jupyter) (1.8.0)\n",
            "Requirement already satisfied: babel>=2.10 in /usr/lib/python3/dist-packages (from jupyterlab-server<3,>=2.27.1->jupyterlab->jupyter) (2.10.3)\n",
            "Requirement already satisfied: json5>=0.9.0 in /home/erlo/.local/lib/python3.12/site-packages (from jupyterlab-server<3,>=2.27.1->jupyterlab->jupyter) (0.9.25)\n",
            "Requirement already satisfied: jsonschema>=4.18.0 in /home/erlo/.local/lib/python3.12/site-packages (from jupyterlab-server<3,>=2.27.1->jupyterlab->jupyter) (4.23.0)\n",
            "Requirement already satisfied: fastjsonschema>=2.15 in /usr/lib/python3/dist-packages (from nbformat>=5.7->nbconvert->jupyter) (2.19.0)\n",
            "Requirement already satisfied: markdown-it-py>=2.2.0 in /usr/lib/python3/dist-packages (from rich->keras>=3.2.0->tensorflow) (3.0.0)\n",
            "Requirement already satisfied: argon2-cffi-bindings in /home/erlo/.local/lib/python3.12/site-packages (from argon2-cffi>=21.1->jupyter-server<3,>=2.4.0->jupyterlab->jupyter) (21.2.0)\n",
            "Requirement already satisfied: attrs>=22.2.0 in /usr/lib/python3/dist-packages (from jsonschema>=4.18.0->jupyterlab-server<3,>=2.27.1->jupyterlab->jupyter) (23.2.0)\n",
            "Requirement already satisfied: jsonschema-specifications>=2023.03.6 in /home/erlo/.local/lib/python3.12/site-packages (from jsonschema>=4.18.0->jupyterlab-server<3,>=2.27.1->jupyterlab->jupyter) (2023.12.1)\n",
            "Requirement already satisfied: referencing>=0.28.4 in /home/erlo/.local/lib/python3.12/site-packages (from jsonschema>=4.18.0->jupyterlab-server<3,>=2.27.1->jupyterlab->jupyter) (0.35.1)\n",
            "Requirement already satisfied: rpds-py>=0.7.1 in /home/erlo/.local/lib/python3.12/site-packages (from jsonschema>=4.18.0->jupyterlab-server<3,>=2.27.1->jupyterlab->jupyter) (0.20.0)\n",
            "Requirement already satisfied: python-json-logger>=2.0.4 in /home/erlo/.local/lib/python3.12/site-packages (from jupyter-events>=0.9.0->jupyter-server<3,>=2.4.0->jupyterlab->jupyter) (2.0.7)\n",
            "Requirement already satisfied: rfc3339-validator in /home/erlo/.local/lib/python3.12/site-packages (from jupyter-events>=0.9.0->jupyter-server<3,>=2.4.0->jupyterlab->jupyter) (0.1.4)\n",
            "Requirement already satisfied: rfc3986-validator>=0.1.1 in /home/erlo/.local/lib/python3.12/site-packages (from jupyter-events>=0.9.0->jupyter-server<3,>=2.4.0->jupyterlab->jupyter) (0.1.1)\n",
            "Requirement already satisfied: mdurl~=0.1 in /usr/lib/python3/dist-packages (from markdown-it-py>=2.2.0->rich->keras>=3.2.0->tensorflow) (0.1.2)\n",
            "Requirement already satisfied: ptyprocess in /usr/lib/python3/dist-packages (from terminado>=0.8.3->jupyter-server<3,>=2.4.0->jupyterlab->jupyter) (0.7.0)\n",
            "Requirement already satisfied: fqdn in /home/erlo/.local/lib/python3.12/site-packages (from jsonschema[format-nongpl]>=4.18.0->jupyter-events>=0.9.0->jupyter-server<3,>=2.4.0->jupyterlab->jupyter) (1.5.1)\n",
            "Requirement already satisfied: isoduration in /home/erlo/.local/lib/python3.12/site-packages (from jsonschema[format-nongpl]>=4.18.0->jupyter-events>=0.9.0->jupyter-server<3,>=2.4.0->jupyterlab->jupyter) (20.11.0)\n",
            "Requirement already satisfied: jsonpointer>1.13 in /usr/lib/python3/dist-packages (from jsonschema[format-nongpl]>=4.18.0->jupyter-events>=0.9.0->jupyter-server<3,>=2.4.0->jupyterlab->jupyter) (2.0)\n",
            "Requirement already satisfied: uri-template in /home/erlo/.local/lib/python3.12/site-packages (from jsonschema[format-nongpl]>=4.18.0->jupyter-events>=0.9.0->jupyter-server<3,>=2.4.0->jupyterlab->jupyter) (1.3.0)\n",
            "Requirement already satisfied: webcolors>=24.6.0 in /home/erlo/.local/lib/python3.12/site-packages (from jsonschema[format-nongpl]>=4.18.0->jupyter-events>=0.9.0->jupyter-server<3,>=2.4.0->jupyterlab->jupyter) (24.8.0)\n",
            "Requirement already satisfied: cffi>=1.0.1 in /home/erlo/.local/lib/python3.12/site-packages (from argon2-cffi-bindings->argon2-cffi>=21.1->jupyter-server<3,>=2.4.0->jupyterlab->jupyter) (1.17.1)\n",
            "Requirement already satisfied: pycparser in /home/erlo/.local/lib/python3.12/site-packages (from cffi>=1.0.1->argon2-cffi-bindings->argon2-cffi>=21.1->jupyter-server<3,>=2.4.0->jupyterlab->jupyter) (2.22)\n",
            "Requirement already satisfied: arrow>=0.15.0 in /home/erlo/.local/lib/python3.12/site-packages (from isoduration->jsonschema[format-nongpl]>=4.18.0->jupyter-events>=0.9.0->jupyter-server<3,>=2.4.0->jupyterlab->jupyter) (1.3.0)\n",
            "Requirement already satisfied: types-python-dateutil>=2.8.10 in /home/erlo/.local/lib/python3.12/site-packages (from arrow>=0.15.0->isoduration->jsonschema[format-nongpl]>=4.18.0->jupyter-events>=0.9.0->jupyter-server<3,>=2.4.0->jupyterlab->jupyter) (2.9.0.20240906)\n"
          ]
        }
      ],
      "source": [
        "!pip install yfinance snscrape pandas_market_calendars pandas_datareader snscrape transformers torch nltk tqdm IPython jupyter ipywidgets tensorflow tf-keras seaborn"
      ]
    },
    {
      "cell_type": "code",
      "execution_count": 2,
      "metadata": {
        "id": "58s0XzfaIW7t"
      },
      "outputs": [
        {
          "name": "stderr",
          "output_type": "stream",
          "text": [
            "/home/erlo/.local/lib/python3.12/site-packages/pandas/core/arrays/masked.py:60: UserWarning: Pandas requires version '1.3.6' or newer of 'bottleneck' (version '1.3.5' currently installed).\n",
            "  from pandas.core import (\n",
            "2024-10-01 19:42:36.681900: I tensorflow/core/util/port.cc:153] oneDNN custom operations are on. You may see slightly different numerical results due to floating-point round-off errors from different computation orders. To turn them off, set the environment variable `TF_ENABLE_ONEDNN_OPTS=0`.\n",
            "2024-10-01 19:42:36.850748: E external/local_xla/xla/stream_executor/cuda/cuda_fft.cc:485] Unable to register cuFFT factory: Attempting to register factory for plugin cuFFT when one has already been registered\n",
            "2024-10-01 19:42:36.926103: E external/local_xla/xla/stream_executor/cuda/cuda_dnn.cc:8454] Unable to register cuDNN factory: Attempting to register factory for plugin cuDNN when one has already been registered\n",
            "2024-10-01 19:42:36.951150: E external/local_xla/xla/stream_executor/cuda/cuda_blas.cc:1452] Unable to register cuBLAS factory: Attempting to register factory for plugin cuBLAS when one has already been registered\n",
            "2024-10-01 19:42:37.086248: I tensorflow/core/platform/cpu_feature_guard.cc:210] This TensorFlow binary is optimized to use available CPU instructions in performance-critical operations.\n",
            "To enable the following instructions: AVX2 AVX_VNNI FMA, in other operations, rebuild TensorFlow with the appropriate compiler flags.\n",
            "2024-10-01 19:42:38.329609: W tensorflow/compiler/tf2tensorrt/utils/py_utils.cc:38] TF-TRT Warning: Could not find TensorRT\n"
          ]
        }
      ],
      "source": [
        "import yfinance as yf\n",
        "#import snscrape.modules.twitter as sntwitter\n",
        "import pandas as pd\n",
        "import matplotlib.pyplot as plt\n",
        "import seaborn as sns\n",
        "import pandas_market_calendars as mcal\n",
        "import pandas_datareader.data as web\n",
        "import pickle\n",
        "import snscrape\n",
        "from transformers import pipeline"
      ]
    },
    {
      "cell_type": "code",
      "execution_count": 3,
      "metadata": {},
      "outputs": [
        {
          "name": "stderr",
          "output_type": "stream",
          "text": [
            "/home/erlo/.local/lib/python3.12/site-packages/transformers/tokenization_utils_base.py:1617: FutureWarning: `clean_up_tokenization_spaces` was not set. It will be set to `True` by default. This behavior will be deprecated in transformers v4.45, and will be then set to `False` by default. For more details check this issue: https://github.com/huggingface/transformers/issues/31884\n",
            "  warnings.warn(\n",
            "/home/erlo/.local/lib/python3.12/site-packages/transformers/pipelines/text_classification.py:104: UserWarning: `return_all_scores` is now deprecated,  if want a similar functionality use `top_k=None` instead of `return_all_scores=True` or `top_k=1` instead of `return_all_scores=False`.\n",
            "  warnings.warn(\n"
          ]
        }
      ],
      "source": [
        "new_model = pipeline(\n",
        "    model=\"mrm8488/distilroberta-finetuned-financial-news-sentiment-analysis\",\n",
        "    return_all_scores=True\n",
        ")"
      ]
    },
    {
      "cell_type": "markdown",
      "metadata": {
        "id": "hGVYsNgkPlVM"
      },
      "source": [
        "## ETAPA 1: Coleta e Tratamento de Dados"
      ]
    },
    {
      "cell_type": "markdown",
      "metadata": {
        "id": "eT_DZA83VdYZ"
      },
      "source": [
        "S&P 500, abreviação de Standard & Poor's 500, ou simplesmente S&P, trata-se de um índice composto por quinhentos ativos cotados nas bolsas de NYSE ou NASDAQ, qualificados devido ao seu tamanho de mercado, sua liquidez e sua representação de grupo industrial."
      ]
    },
    {
      "cell_type": "markdown",
      "metadata": {},
      "source": [
        "### Dados do mercado de ações"
      ]
    },
    {
      "cell_type": "code",
      "execution_count": 4,
      "metadata": {
        "colab": {
          "base_uri": "https://localhost:8080/"
        },
        "id": "ZPPwmcj9H95x",
        "outputId": "ba8d06fd-9d0f-4eae-9d0e-8fd75daa7e5e"
      },
      "outputs": [
        {
          "name": "stdout",
          "output_type": "stream",
          "text": [
            "                   Open         High          Low        Close      Volume  \\\n",
            "2020-01-02  3244.669922  3258.139893  3235.530029  3257.850098  3459930000   \n",
            "2020-01-03  3226.360107  3246.149902  3222.340088  3234.850098  3484700000   \n",
            "2020-01-06  3217.550049  3246.840088  3214.639893  3246.280029  3702460000   \n",
            "2020-01-07  3241.860107  3244.909912  3232.429932  3237.179932  3435910000   \n",
            "2020-01-08  3238.590088  3267.070068  3236.669922  3253.050049  3726840000   \n",
            "\n",
            "            Dividends  Stock Splits  \n",
            "2020-01-02        0.0           0.0  \n",
            "2020-01-03        0.0           0.0  \n",
            "2020-01-06        0.0           0.0  \n",
            "2020-01-07        0.0           0.0  \n",
            "2020-01-08        0.0           0.0  \n"
          ]
        }
      ],
      "source": [
        "# ticker S&P 500\n",
        "ticker = '^GSPC'\n",
        "index = yf.Ticker(ticker)\n",
        "\n",
        "# de acordo com nossa escolha\n",
        "start_date = '2020-01-01'\n",
        "end_date = '2024-09-25'\n",
        "\n",
        "data = index.history(start=start_date, end=end_date)\n",
        "\n",
        "# deixar apenas a data (y/m/d) na coluna date\n",
        "data.index = data.index.date\n",
        "\n",
        "# Exiba os primeiros registros para verificação\n",
        "print(data.head())"
      ]
    },
    {
      "cell_type": "markdown",
      "metadata": {
        "id": "VRVJu4efJYPU"
      },
      "source": [
        "No artigo, foi filtrado os dados para os dias úteis do mercado. Faremos a seguir esse processamento:"
      ]
    },
    {
      "cell_type": "code",
      "execution_count": 5,
      "metadata": {
        "id": "PyARdDhxJlXE"
      },
      "outputs": [],
      "source": [
        "# filtrando os dados de stock para os dias uteis\n",
        "nyse = mcal.get_calendar('NYSE')\n",
        "\n",
        "dias_uteis = nyse.valid_days(start_date=start_date, end_date=end_date)\n",
        "\n",
        "# Pegar so a data\n",
        "dias_uteis = [dia.date() for dia in dias_uteis]"
      ]
    },
    {
      "cell_type": "code",
      "execution_count": 6,
      "metadata": {
        "colab": {
          "base_uri": "https://localhost:8080/"
        },
        "id": "RNjSIenGLstt",
        "outputId": "d3d1ecd8-7ac4-4b50-fe59-dfa432678a00"
      },
      "outputs": [
        {
          "name": "stdout",
          "output_type": "stream",
          "text": [
            "                   Open         High          Low        Close      Volume  \\\n",
            "2020-01-02  3244.669922  3258.139893  3235.530029  3257.850098  3459930000   \n",
            "2020-01-03  3226.360107  3246.149902  3222.340088  3234.850098  3484700000   \n",
            "2020-01-06  3217.550049  3246.840088  3214.639893  3246.280029  3702460000   \n",
            "2020-01-07  3241.860107  3244.909912  3232.429932  3237.179932  3435910000   \n",
            "2020-01-08  3238.590088  3267.070068  3236.669922  3253.050049  3726840000   \n",
            "\n",
            "            Dividends  Stock Splits  \n",
            "2020-01-02        0.0           0.0  \n",
            "2020-01-03        0.0           0.0  \n",
            "2020-01-06        0.0           0.0  \n",
            "2020-01-07        0.0           0.0  \n",
            "2020-01-08        0.0           0.0  \n"
          ]
        }
      ],
      "source": [
        "sp500 = data.loc[data.index.intersection(dias_uteis)]\n",
        "\n",
        "print(sp500.head())\n",
        "\n",
        "save = False\n",
        "if save:\n",
        "    sp500.to_csv(\"data/csv/sp500.csv\")"
      ]
    },
    {
      "cell_type": "code",
      "execution_count": 7,
      "metadata": {
        "colab": {
          "base_uri": "https://localhost:8080/",
          "height": 300
        },
        "id": "gej-46DiO8Al",
        "outputId": "0acec7cb-4f12-4ee9-c8f7-283a17065673"
      },
      "outputs": [
        {
          "data": {
            "text/html": [
              "<div>\n",
              "<style scoped>\n",
              "    .dataframe tbody tr th:only-of-type {\n",
              "        vertical-align: middle;\n",
              "    }\n",
              "\n",
              "    .dataframe tbody tr th {\n",
              "        vertical-align: top;\n",
              "    }\n",
              "\n",
              "    .dataframe thead th {\n",
              "        text-align: right;\n",
              "    }\n",
              "</style>\n",
              "<table border=\"1\" class=\"dataframe\">\n",
              "  <thead>\n",
              "    <tr style=\"text-align: right;\">\n",
              "      <th></th>\n",
              "      <th>Open</th>\n",
              "      <th>High</th>\n",
              "      <th>Low</th>\n",
              "      <th>Close</th>\n",
              "      <th>Volume</th>\n",
              "      <th>Dividends</th>\n",
              "      <th>Stock Splits</th>\n",
              "    </tr>\n",
              "  </thead>\n",
              "  <tbody>\n",
              "    <tr>\n",
              "      <th>count</th>\n",
              "      <td>1190.000000</td>\n",
              "      <td>1190.000000</td>\n",
              "      <td>1190.000000</td>\n",
              "      <td>1190.000000</td>\n",
              "      <td>1.190000e+03</td>\n",
              "      <td>1190.0</td>\n",
              "      <td>1190.0</td>\n",
              "    </tr>\n",
              "    <tr>\n",
              "      <th>mean</th>\n",
              "      <td>4165.217473</td>\n",
              "      <td>4190.424592</td>\n",
              "      <td>4138.559578</td>\n",
              "      <td>4166.022263</td>\n",
              "      <td>4.403520e+09</td>\n",
              "      <td>0.0</td>\n",
              "      <td>0.0</td>\n",
              "    </tr>\n",
              "    <tr>\n",
              "      <th>std</th>\n",
              "      <td>677.736933</td>\n",
              "      <td>675.675810</td>\n",
              "      <td>680.305417</td>\n",
              "      <td>677.989815</td>\n",
              "      <td>1.049796e+09</td>\n",
              "      <td>0.0</td>\n",
              "      <td>0.0</td>\n",
              "    </tr>\n",
              "    <tr>\n",
              "      <th>min</th>\n",
              "      <td>2290.709961</td>\n",
              "      <td>2300.729980</td>\n",
              "      <td>2191.860107</td>\n",
              "      <td>2237.399902</td>\n",
              "      <td>1.639500e+09</td>\n",
              "      <td>0.0</td>\n",
              "      <td>0.0</td>\n",
              "    </tr>\n",
              "    <tr>\n",
              "      <th>25%</th>\n",
              "      <td>3786.674988</td>\n",
              "      <td>3819.482483</td>\n",
              "      <td>3749.492493</td>\n",
              "      <td>3790.517395</td>\n",
              "      <td>3.762062e+09</td>\n",
              "      <td>0.0</td>\n",
              "      <td>0.0</td>\n",
              "    </tr>\n",
              "    <tr>\n",
              "      <th>50%</th>\n",
              "      <td>4170.040039</td>\n",
              "      <td>4193.760010</td>\n",
              "      <td>4142.614990</td>\n",
              "      <td>4170.560059</td>\n",
              "      <td>4.130170e+09</td>\n",
              "      <td>0.0</td>\n",
              "      <td>0.0</td>\n",
              "    </tr>\n",
              "    <tr>\n",
              "      <th>75%</th>\n",
              "      <td>4531.830200</td>\n",
              "      <td>4545.984863</td>\n",
              "      <td>4509.594971</td>\n",
              "      <td>4527.872559</td>\n",
              "      <td>4.748670e+09</td>\n",
              "      <td>0.0</td>\n",
              "      <td>0.0</td>\n",
              "    </tr>\n",
              "    <tr>\n",
              "      <th>max</th>\n",
              "      <td>5727.660156</td>\n",
              "      <td>5735.319824</td>\n",
              "      <td>5704.220215</td>\n",
              "      <td>5732.930176</td>\n",
              "      <td>9.976520e+09</td>\n",
              "      <td>0.0</td>\n",
              "      <td>0.0</td>\n",
              "    </tr>\n",
              "  </tbody>\n",
              "</table>\n",
              "</div>"
            ],
            "text/plain": [
              "              Open         High          Low        Close        Volume  \\\n",
              "count  1190.000000  1190.000000  1190.000000  1190.000000  1.190000e+03   \n",
              "mean   4165.217473  4190.424592  4138.559578  4166.022263  4.403520e+09   \n",
              "std     677.736933   675.675810   680.305417   677.989815  1.049796e+09   \n",
              "min    2290.709961  2300.729980  2191.860107  2237.399902  1.639500e+09   \n",
              "25%    3786.674988  3819.482483  3749.492493  3790.517395  3.762062e+09   \n",
              "50%    4170.040039  4193.760010  4142.614990  4170.560059  4.130170e+09   \n",
              "75%    4531.830200  4545.984863  4509.594971  4527.872559  4.748670e+09   \n",
              "max    5727.660156  5735.319824  5704.220215  5732.930176  9.976520e+09   \n",
              "\n",
              "       Dividends  Stock Splits  \n",
              "count     1190.0        1190.0  \n",
              "mean         0.0           0.0  \n",
              "std          0.0           0.0  \n",
              "min          0.0           0.0  \n",
              "25%          0.0           0.0  \n",
              "50%          0.0           0.0  \n",
              "75%          0.0           0.0  \n",
              "max          0.0           0.0  "
            ]
          },
          "execution_count": 7,
          "metadata": {},
          "output_type": "execute_result"
        }
      ],
      "source": [
        "sp500.describe()"
      ]
    },
    {
      "cell_type": "markdown",
      "metadata": {},
      "source": [
        "### Dados de Notícias / Redes Sociais"
      ]
    },
    {
      "cell_type": "code",
      "execution_count": 8,
      "metadata": {},
      "outputs": [],
      "source": [
        "import pickle\n",
        "\n",
        "# news articles\n",
        "with open('data/pkl/df_news.pkl', 'rb') as f:\n",
        "    news = pickle.load(f)\n",
        "# bsky tweets\n",
        "with open('data/pkl/df_socials.pkl', 'rb') as f:\n",
        "    bsky = pickle.load(f)"
      ]
    },
    {
      "cell_type": "code",
      "execution_count": 9,
      "metadata": {},
      "outputs": [
        {
          "data": {
            "text/html": [
              "<div>\n",
              "<style scoped>\n",
              "    .dataframe tbody tr th:only-of-type {\n",
              "        vertical-align: middle;\n",
              "    }\n",
              "\n",
              "    .dataframe tbody tr th {\n",
              "        vertical-align: top;\n",
              "    }\n",
              "\n",
              "    .dataframe thead th {\n",
              "        text-align: right;\n",
              "    }\n",
              "</style>\n",
              "<table border=\"1\" class=\"dataframe\">\n",
              "  <thead>\n",
              "    <tr style=\"text-align: right;\">\n",
              "      <th></th>\n",
              "      <th>title</th>\n",
              "      <th>text</th>\n",
              "      <th>label</th>\n",
              "      <th>links</th>\n",
              "      <th>symbol</th>\n",
              "      <th>company</th>\n",
              "      <th>date</th>\n",
              "    </tr>\n",
              "  </thead>\n",
              "  <tbody>\n",
              "    <tr>\n",
              "      <th>0</th>\n",
              "      <td>Stocks making the biggest moves midday: Palo A...</td>\n",
              "      <td>A view of the exterior of the new Dutch head o...</td>\n",
              "      <td>-2</td>\n",
              "      <td>https://www.cnbc.com/2023/06/05/stocks-making-...</td>\n",
              "      <td>MMM</td>\n",
              "      <td>3M</td>\n",
              "      <td>2023-06-05</td>\n",
              "    </tr>\n",
              "    <tr>\n",
              "      <th>1</th>\n",
              "      <td>3M will spin off its health-care business into...</td>\n",
              "      <td>3M announced Tuesday it will spin off its heal...</td>\n",
              "      <td>-2</td>\n",
              "      <td>https://www.cnbc.com/2022/07/26/3m-will-spin-o...</td>\n",
              "      <td>MMM</td>\n",
              "      <td>3M</td>\n",
              "      <td>2022-07-26</td>\n",
              "    </tr>\n",
              "  </tbody>\n",
              "</table>\n",
              "</div>"
            ],
            "text/plain": [
              "                                               title  \\\n",
              "0  Stocks making the biggest moves midday: Palo A...   \n",
              "1  3M will spin off its health-care business into...   \n",
              "\n",
              "                                                text  label  \\\n",
              "0  A view of the exterior of the new Dutch head o...     -2   \n",
              "1  3M announced Tuesday it will spin off its heal...     -2   \n",
              "\n",
              "                                               links symbol company       date  \n",
              "0  https://www.cnbc.com/2023/06/05/stocks-making-...    MMM      3M 2023-06-05  \n",
              "1  https://www.cnbc.com/2022/07/26/3m-will-spin-o...    MMM      3M 2022-07-26  "
            ]
          },
          "execution_count": 9,
          "metadata": {},
          "output_type": "execute_result"
        }
      ],
      "source": [
        "news.head(2)"
      ]
    },
    {
      "cell_type": "code",
      "execution_count": 10,
      "metadata": {},
      "outputs": [
        {
          "data": {
            "text/html": [
              "<div>\n",
              "<style scoped>\n",
              "    .dataframe tbody tr th:only-of-type {\n",
              "        vertical-align: middle;\n",
              "    }\n",
              "\n",
              "    .dataframe tbody tr th {\n",
              "        vertical-align: top;\n",
              "    }\n",
              "\n",
              "    .dataframe thead th {\n",
              "        text-align: right;\n",
              "    }\n",
              "</style>\n",
              "<table border=\"1\" class=\"dataframe\">\n",
              "  <thead>\n",
              "    <tr style=\"text-align: right;\">\n",
              "      <th></th>\n",
              "      <th>name</th>\n",
              "      <th>user</th>\n",
              "      <th>date</th>\n",
              "      <th>text</th>\n",
              "    </tr>\n",
              "  </thead>\n",
              "  <tbody>\n",
              "    <tr>\n",
              "      <th>0</th>\n",
              "      <td>Roberto Marsicano</td>\n",
              "      <td>@cannedcat.bsky.social</td>\n",
              "      <td>2024-09-21</td>\n",
              "      <td>a top-1% fund manager warns warren buffett is ...</td>\n",
              "    </tr>\n",
              "    <tr>\n",
              "      <th>1</th>\n",
              "      <td>copgamer</td>\n",
              "      <td>@copigamer.bsky.social</td>\n",
              "      <td>2024-09-21</td>\n",
              "      <td>microstrategy outperformed the s&amp;p 500 with it...</td>\n",
              "    </tr>\n",
              "  </tbody>\n",
              "</table>\n",
              "</div>"
            ],
            "text/plain": [
              "                 name                    user       date  \\\n",
              "0  Roberto Marsicano   @cannedcat.bsky.social 2024-09-21   \n",
              "1            copgamer  @copigamer.bsky.social 2024-09-21   \n",
              "\n",
              "                                                text  \n",
              "0  a top-1% fund manager warns warren buffett is ...  \n",
              "1  microstrategy outperformed the s&p 500 with it...  "
            ]
          },
          "execution_count": 10,
          "metadata": {},
          "output_type": "execute_result"
        }
      ],
      "source": [
        "bsky.head(2)"
      ]
    },
    {
      "cell_type": "markdown",
      "metadata": {},
      "source": [
        "# Etapa 2: Análise e Agregação de Sentimento através do DistilRoBERTa"
      ]
    },
    {
      "cell_type": "code",
      "execution_count": 11,
      "metadata": {},
      "outputs": [],
      "source": [
        "import nltk\n",
        "from nltk.corpus import stopwords\n",
        "from nltk.tokenize import word_tokenize\n",
        "from transformers import RobertaTokenizer, TFRobertaModel\n",
        "from tqdm import tqdm\n",
        "# import clear_output()\n",
        "from IPython.display import clear_output\n",
        "import pandas as pd\n",
        "import matplotlib.pyplot as plt\n",
        "\n",
        "nltk.download('stopwords')\n",
        "nltk.download('punkt')\n",
        "nltk.download('punkt_tab')\n",
        "stop_words = set(stopwords.words('portuguese'))\n",
        "\n",
        "tokenizer = RobertaTokenizer.from_pretrained(\"roberta-base\")\n",
        "model = TFRobertaModel.from_pretrained(\"roberta-base\")\n",
        "\n",
        "def remove_stopwords(text):\n",
        "    words = text.split()\n",
        "    return \" \".join([word for word in words if word.lower() not in stop_words])\n",
        "\n",
        "def tokenize(text):\n",
        "    tokenizer(text, truncation=True, max_length=500, return_tensors='tf')\n",
        "\n",
        "clear_output()"
      ]
    },
    {
      "cell_type": "code",
      "execution_count": 12,
      "metadata": {},
      "outputs": [],
      "source": [
        "tqdm.pandas()\n",
        "\n",
        "# check if data/pkl/df_socials_sentiment.pkl exists\n",
        "try:\n",
        "    with open('data/pkl/df_socials_sentiment.pkl', 'rb') as f:\n",
        "        bsky = pickle.load(f)\n",
        "except:     \n",
        "    tokens = []\n",
        "    for index, row in bsky.iterrows():\n",
        "        tokens.append(tokenizer(row['text'], truncation=True, max_length=500, return_tensors='tf'))\n",
        "\n",
        "    decoded = []\n",
        "    for token in tokens:\n",
        "        decoded.append(tokenizer.decode(token['input_ids'][0]))\n",
        "\n",
        "    bsky['decoded'] = decoded\n",
        "    bsky['decoded'] = bsky['decoded'].apply(remove_stopwords)\n",
        "\n",
        "    bsky.loc[:, 'short_text'] = bsky['decoded']\n",
        "    bsky.loc[:, 'sentiment'] = bsky['short_text'].progress_apply(lambda x: new_model(x))\n",
        "\n",
        "    bsky.head()\n",
        "\n",
        "    save = True\n",
        "    if save:\n",
        "        with open('data/pkl/df_socials_sentiment.pkl', 'wb') as f:\n",
        "                pickle.dump(bsky, f)"
      ]
    },
    {
      "cell_type": "code",
      "execution_count": 13,
      "metadata": {},
      "outputs": [],
      "source": [
        "tqdm.pandas()\n",
        "\n",
        "# check if data/pkl/df_news_sentiment.pkl exists\n",
        "try:\n",
        "    with open('data/pkl/df_news_sentiment.pkl', 'rb') as f:\n",
        "        news = pickle.load(f)\n",
        "except:\n",
        "    tokens = []\n",
        "    for index, row in news.iterrows():\n",
        "        tokens.append(tokenizer(row['text'], truncation=True, max_length=500, return_tensors='tf'))\n",
        "\n",
        "    decoded = []\n",
        "    for token in tokens:\n",
        "        decoded.append(tokenizer.decode(token['input_ids'][0]))\n",
        "\n",
        "    news['decoded'] = decoded\n",
        "    news['decoded'] = news['decoded'].apply(remove_stopwords)\n",
        "\n",
        "    news.loc[:, 'short_text'] = news['decoded']\n",
        "    news.loc[:, 'sentiment'] = news['short_text'].progress_apply(lambda x: new_model(x))\n",
        "\n",
        "    news.head()\n",
        "\n",
        "    save = True\n",
        "\n",
        "    if save:\n",
        "        with open('data/pkl/df_news_sentiment.pkl', 'wb') as f:\n",
        "                pickle.dump(news, f)"
      ]
    },
    {
      "cell_type": "markdown",
      "metadata": {},
      "source": [
        "Tratando os Dataframes  \n",
        "- Remoção das colunas 'decoded', 'links', 'decoded', 'symbol' e 'company'  \n",
        "- Tratamento da coluna 'sentiment'"
      ]
    },
    {
      "cell_type": "code",
      "execution_count": 14,
      "metadata": {},
      "outputs": [
        {
          "name": "stdout",
          "output_type": "stream",
          "text": [
            "Index(['title', 'text', 'label', 'links', 'symbol', 'company', 'date',\n",
            "       'decoded', 'short_text', 'sentiment'],\n",
            "      dtype='object')\n",
            "Index(['name', 'user', 'date', 'text', 'decoded', 'short_text', 'sentiment'], dtype='object')\n"
          ]
        }
      ],
      "source": [
        "print(news.columns)\n",
        "print(bsky.columns)"
      ]
    },
    {
      "cell_type": "code",
      "execution_count": 15,
      "metadata": {},
      "outputs": [
        {
          "name": "stdout",
          "output_type": "stream",
          "text": [
            "Index(['title', 'text', 'label', 'date', 'short_text', 'sentiment'], dtype='object')\n",
            "Index(['user', 'date', 'text', 'short_text', 'sentiment'], dtype='object')\n"
          ]
        }
      ],
      "source": [
        "news = news.drop(columns=['decoded', 'links', 'symbol', 'company'])\n",
        "bsky = bsky.drop(columns=['decoded', 'name'])\n",
        "\n",
        "print(news.columns)\n",
        "print(bsky.columns)"
      ]
    },
    {
      "cell_type": "code",
      "execution_count": 16,
      "metadata": {},
      "outputs": [
        {
          "data": {
            "text/html": [
              "<div>\n",
              "<style scoped>\n",
              "    .dataframe tbody tr th:only-of-type {\n",
              "        vertical-align: middle;\n",
              "    }\n",
              "\n",
              "    .dataframe tbody tr th {\n",
              "        vertical-align: top;\n",
              "    }\n",
              "\n",
              "    .dataframe thead th {\n",
              "        text-align: right;\n",
              "    }\n",
              "</style>\n",
              "<table border=\"1\" class=\"dataframe\">\n",
              "  <thead>\n",
              "    <tr style=\"text-align: right;\">\n",
              "      <th></th>\n",
              "      <th>user</th>\n",
              "      <th>date</th>\n",
              "      <th>text</th>\n",
              "      <th>short_text</th>\n",
              "      <th>sentiment</th>\n",
              "    </tr>\n",
              "  </thead>\n",
              "  <tbody>\n",
              "    <tr>\n",
              "      <th>0</th>\n",
              "      <td>@cannedcat.bsky.social</td>\n",
              "      <td>2024-09-21</td>\n",
              "      <td>a top-1% fund manager warns warren buffett is ...</td>\n",
              "      <td>&lt;s&gt;a top-1% fund manager warns warren buffett ...</td>\n",
              "      <td>[[{'label': 'negative', 'score': 0.99809497594...</td>\n",
              "    </tr>\n",
              "    <tr>\n",
              "      <th>1</th>\n",
              "      <td>@copigamer.bsky.social</td>\n",
              "      <td>2024-09-21</td>\n",
              "      <td>microstrategy outperformed the s&amp;p 500 with it...</td>\n",
              "      <td>&lt;s&gt;microstrategy outperformed the s&amp;p 500 with...</td>\n",
              "      <td>[[{'label': 'negative', 'score': 0.00027101469...</td>\n",
              "    </tr>\n",
              "    <tr>\n",
              "      <th>2</th>\n",
              "      <td>@aqsaa.bsky.social</td>\n",
              "      <td>2024-09-21</td>\n",
              "      <td>$mstr is beating 100% of the s&amp;p 500 with</td>\n",
              "      <td>&lt;s&gt;$mstr is beating 100% of the s&amp;p 500 with&lt;/s&gt;</td>\n",
              "      <td>[[{'label': 'negative', 'score': 0.00058746116...</td>\n",
              "    </tr>\n",
              "    <tr>\n",
              "      <th>3</th>\n",
              "      <td>@sketchynews.net</td>\n",
              "      <td>2024-09-21</td>\n",
              "      <td>rate-cut euphoria is fading amid reminders of ...</td>\n",
              "      <td>&lt;s&gt;rate-cut euphoria is fading amid reminders ...</td>\n",
              "      <td>[[{'label': 'negative', 'score': 0.99834644794...</td>\n",
              "    </tr>\n",
              "    <tr>\n",
              "      <th>4</th>\n",
              "      <td>@basquiatball.bsky.social</td>\n",
              "      <td>2024-09-20</td>\n",
              "      <td>the computer that manages my s&amp;p 500 eft poste...</td>\n",
              "      <td>&lt;s&gt;the computer that manages my s&amp;p 500 eft po...</td>\n",
              "      <td>[[{'label': 'negative', 'score': 0.99734038114...</td>\n",
              "    </tr>\n",
              "  </tbody>\n",
              "</table>\n",
              "</div>"
            ],
            "text/plain": [
              "                        user       date  \\\n",
              "0     @cannedcat.bsky.social 2024-09-21   \n",
              "1     @copigamer.bsky.social 2024-09-21   \n",
              "2         @aqsaa.bsky.social 2024-09-21   \n",
              "3           @sketchynews.net 2024-09-21   \n",
              "4  @basquiatball.bsky.social 2024-09-20   \n",
              "\n",
              "                                                text  \\\n",
              "0  a top-1% fund manager warns warren buffett is ...   \n",
              "1  microstrategy outperformed the s&p 500 with it...   \n",
              "2          $mstr is beating 100% of the s&p 500 with   \n",
              "3  rate-cut euphoria is fading amid reminders of ...   \n",
              "4  the computer that manages my s&p 500 eft poste...   \n",
              "\n",
              "                                          short_text  \\\n",
              "0  <s>a top-1% fund manager warns warren buffett ...   \n",
              "1  <s>microstrategy outperformed the s&p 500 with...   \n",
              "2   <s>$mstr is beating 100% of the s&p 500 with</s>   \n",
              "3  <s>rate-cut euphoria is fading amid reminders ...   \n",
              "4  <s>the computer that manages my s&p 500 eft po...   \n",
              "\n",
              "                                           sentiment  \n",
              "0  [[{'label': 'negative', 'score': 0.99809497594...  \n",
              "1  [[{'label': 'negative', 'score': 0.00027101469...  \n",
              "2  [[{'label': 'negative', 'score': 0.00058746116...  \n",
              "3  [[{'label': 'negative', 'score': 0.99834644794...  \n",
              "4  [[{'label': 'negative', 'score': 0.99734038114...  "
            ]
          },
          "execution_count": 16,
          "metadata": {},
          "output_type": "execute_result"
        }
      ],
      "source": [
        "bsky.head()"
      ]
    },
    {
      "cell_type": "code",
      "execution_count": 17,
      "metadata": {},
      "outputs": [
        {
          "data": {
            "text/plain": [
              "[[{'label': 'negative', 'score': 0.9980949759483337},\n",
              "  {'label': 'neutral', 'score': 0.0004345719935372472},\n",
              "  {'label': 'positive', 'score': 0.001470473944209516}]]"
            ]
          },
          "execution_count": 17,
          "metadata": {},
          "output_type": "execute_result"
        }
      ],
      "source": [
        "bsky['sentiment'].iloc[0]"
      ]
    },
    {
      "cell_type": "code",
      "execution_count": 18,
      "metadata": {},
      "outputs": [
        {
          "data": {
            "text/html": [
              "<div>\n",
              "<style scoped>\n",
              "    .dataframe tbody tr th:only-of-type {\n",
              "        vertical-align: middle;\n",
              "    }\n",
              "\n",
              "    .dataframe tbody tr th {\n",
              "        vertical-align: top;\n",
              "    }\n",
              "\n",
              "    .dataframe thead th {\n",
              "        text-align: right;\n",
              "    }\n",
              "</style>\n",
              "<table border=\"1\" class=\"dataframe\">\n",
              "  <thead>\n",
              "    <tr style=\"text-align: right;\">\n",
              "      <th></th>\n",
              "      <th>user</th>\n",
              "      <th>date</th>\n",
              "      <th>text</th>\n",
              "      <th>short_text</th>\n",
              "      <th>negative_score</th>\n",
              "      <th>neutral_score</th>\n",
              "      <th>positive_score</th>\n",
              "    </tr>\n",
              "  </thead>\n",
              "  <tbody>\n",
              "    <tr>\n",
              "      <th>0</th>\n",
              "      <td>@cannedcat.bsky.social</td>\n",
              "      <td>2024-09-21</td>\n",
              "      <td>a top-1% fund manager warns warren buffett is ...</td>\n",
              "      <td>&lt;s&gt;a top-1% fund manager warns warren buffett ...</td>\n",
              "      <td>0.998095</td>\n",
              "      <td>0.000435</td>\n",
              "      <td>0.00147</td>\n",
              "    </tr>\n",
              "  </tbody>\n",
              "</table>\n",
              "</div>"
            ],
            "text/plain": [
              "                     user       date  \\\n",
              "0  @cannedcat.bsky.social 2024-09-21   \n",
              "\n",
              "                                                text  \\\n",
              "0  a top-1% fund manager warns warren buffett is ...   \n",
              "\n",
              "                                          short_text  negative_score  \\\n",
              "0  <s>a top-1% fund manager warns warren buffett ...        0.998095   \n",
              "\n",
              "   neutral_score  positive_score  \n",
              "0       0.000435         0.00147  "
            ]
          },
          "execution_count": 18,
          "metadata": {},
          "output_type": "execute_result"
        }
      ],
      "source": [
        "bsky['negative_score'] = bsky['sentiment'].apply(lambda x: x[0][0]['score'])\n",
        "bsky['neutral_score'] = bsky['sentiment'].apply(lambda x: x[0][1]['score'])\n",
        "bsky['positive_score'] = bsky['sentiment'].apply(lambda x: x[0][2]['score'])\n",
        "\n",
        "bsky = bsky.drop(columns=['sentiment'])\n",
        "\n",
        "bsky.head(1)"
      ]
    },
    {
      "cell_type": "code",
      "execution_count": 19,
      "metadata": {},
      "outputs": [
        {
          "data": {
            "text/html": [
              "<div>\n",
              "<style scoped>\n",
              "    .dataframe tbody tr th:only-of-type {\n",
              "        vertical-align: middle;\n",
              "    }\n",
              "\n",
              "    .dataframe tbody tr th {\n",
              "        vertical-align: top;\n",
              "    }\n",
              "\n",
              "    .dataframe thead th {\n",
              "        text-align: right;\n",
              "    }\n",
              "</style>\n",
              "<table border=\"1\" class=\"dataframe\">\n",
              "  <thead>\n",
              "    <tr style=\"text-align: right;\">\n",
              "      <th></th>\n",
              "      <th>title</th>\n",
              "      <th>text</th>\n",
              "      <th>label</th>\n",
              "      <th>date</th>\n",
              "      <th>short_text</th>\n",
              "      <th>negative_score</th>\n",
              "      <th>neutral_score</th>\n",
              "      <th>positive_score</th>\n",
              "    </tr>\n",
              "  </thead>\n",
              "  <tbody>\n",
              "    <tr>\n",
              "      <th>0</th>\n",
              "      <td>Stocks making the biggest moves midday: Palo A...</td>\n",
              "      <td>A view of the exterior of the new Dutch head o...</td>\n",
              "      <td>-2</td>\n",
              "      <td>2023-06-05</td>\n",
              "      <td>&lt;s&gt;A view of the exterior of the new Dutch hea...</td>\n",
              "      <td>0.162254</td>\n",
              "      <td>0.000359</td>\n",
              "      <td>0.837387</td>\n",
              "    </tr>\n",
              "  </tbody>\n",
              "</table>\n",
              "</div>"
            ],
            "text/plain": [
              "                                               title  \\\n",
              "0  Stocks making the biggest moves midday: Palo A...   \n",
              "\n",
              "                                                text  label       date  \\\n",
              "0  A view of the exterior of the new Dutch head o...     -2 2023-06-05   \n",
              "\n",
              "                                          short_text  negative_score  \\\n",
              "0  <s>A view of the exterior of the new Dutch hea...        0.162254   \n",
              "\n",
              "   neutral_score  positive_score  \n",
              "0       0.000359        0.837387  "
            ]
          },
          "execution_count": 19,
          "metadata": {},
          "output_type": "execute_result"
        }
      ],
      "source": [
        "news['negative_score'] = news['sentiment'].apply(lambda x: x[0][0]['score'])\n",
        "news['neutral_score'] = news['sentiment'].apply(lambda x: x[0][1]['score'])\n",
        "news['positive_score'] = news['sentiment'].apply(lambda x: x[0][2]['score'])\n",
        "\n",
        "news = news.drop(columns=['sentiment'])\n",
        "\n",
        "news.head(1)"
      ]
    },
    {
      "cell_type": "markdown",
      "metadata": {},
      "source": [
        "## Agregando a média dos sentimentos para cada dia"
      ]
    },
    {
      "cell_type": "code",
      "execution_count": 20,
      "metadata": {},
      "outputs": [],
      "source": [
        "# série temporal de médias de sentimentos para cada dia\n",
        "# agregar os scores \n",
        "\n",
        "bsky_values = bsky[['date', 'negative_score', 'neutral_score', 'positive_score']]\n",
        "news_values = news[['date', 'negative_score', 'neutral_score', 'positive_score']]"
      ]
    },
    {
      "cell_type": "code",
      "execution_count": 21,
      "metadata": {},
      "outputs": [
        {
          "data": {
            "text/html": [
              "<div>\n",
              "<style scoped>\n",
              "    .dataframe tbody tr th:only-of-type {\n",
              "        vertical-align: middle;\n",
              "    }\n",
              "\n",
              "    .dataframe tbody tr th {\n",
              "        vertical-align: top;\n",
              "    }\n",
              "\n",
              "    .dataframe thead th {\n",
              "        text-align: right;\n",
              "    }\n",
              "</style>\n",
              "<table border=\"1\" class=\"dataframe\">\n",
              "  <thead>\n",
              "    <tr style=\"text-align: right;\">\n",
              "      <th></th>\n",
              "      <th>negative_score</th>\n",
              "      <th>neutral_score</th>\n",
              "      <th>positive_score</th>\n",
              "    </tr>\n",
              "    <tr>\n",
              "      <th>date</th>\n",
              "      <th></th>\n",
              "      <th></th>\n",
              "      <th></th>\n",
              "    </tr>\n",
              "  </thead>\n",
              "  <tbody>\n",
              "    <tr>\n",
              "      <th>2020-01-02</th>\n",
              "      <td>0.997598</td>\n",
              "      <td>0.001034</td>\n",
              "      <td>0.001368</td>\n",
              "    </tr>\n",
              "    <tr>\n",
              "      <th>2020-01-03</th>\n",
              "      <td>0.000223</td>\n",
              "      <td>0.000103</td>\n",
              "      <td>0.999674</td>\n",
              "    </tr>\n",
              "    <tr>\n",
              "      <th>2020-01-06</th>\n",
              "      <td>0.000436</td>\n",
              "      <td>0.000174</td>\n",
              "      <td>0.999390</td>\n",
              "    </tr>\n",
              "    <tr>\n",
              "      <th>2020-01-08</th>\n",
              "      <td>0.000252</td>\n",
              "      <td>0.000071</td>\n",
              "      <td>0.999677</td>\n",
              "    </tr>\n",
              "    <tr>\n",
              "      <th>2020-01-09</th>\n",
              "      <td>0.000100</td>\n",
              "      <td>0.999775</td>\n",
              "      <td>0.000125</td>\n",
              "    </tr>\n",
              "  </tbody>\n",
              "</table>\n",
              "</div>"
            ],
            "text/plain": [
              "            negative_score  neutral_score  positive_score\n",
              "date                                                     \n",
              "2020-01-02        0.997598       0.001034        0.001368\n",
              "2020-01-03        0.000223       0.000103        0.999674\n",
              "2020-01-06        0.000436       0.000174        0.999390\n",
              "2020-01-08        0.000252       0.000071        0.999677\n",
              "2020-01-09        0.000100       0.999775        0.000125"
            ]
          },
          "execution_count": 21,
          "metadata": {},
          "output_type": "execute_result"
        }
      ],
      "source": [
        "ts_scores = pd.concat([bsky_values, news_values]).groupby('date').mean()\n",
        "ts_scores.head()"
      ]
    },
    {
      "cell_type": "code",
      "execution_count": 22,
      "metadata": {},
      "outputs": [
        {
          "data": {
            "text/html": [
              "<div>\n",
              "<style scoped>\n",
              "    .dataframe tbody tr th:only-of-type {\n",
              "        vertical-align: middle;\n",
              "    }\n",
              "\n",
              "    .dataframe tbody tr th {\n",
              "        vertical-align: top;\n",
              "    }\n",
              "\n",
              "    .dataframe thead th {\n",
              "        text-align: right;\n",
              "    }\n",
              "</style>\n",
              "<table border=\"1\" class=\"dataframe\">\n",
              "  <thead>\n",
              "    <tr style=\"text-align: right;\">\n",
              "      <th></th>\n",
              "      <th>negative_score</th>\n",
              "      <th>neutral_score</th>\n",
              "      <th>positive_score</th>\n",
              "    </tr>\n",
              "  </thead>\n",
              "  <tbody>\n",
              "    <tr>\n",
              "      <th>2020-01-02</th>\n",
              "      <td>0.997598</td>\n",
              "      <td>0.001034</td>\n",
              "      <td>0.001368</td>\n",
              "    </tr>\n",
              "    <tr>\n",
              "      <th>2020-01-03</th>\n",
              "      <td>0.000223</td>\n",
              "      <td>0.000103</td>\n",
              "      <td>0.999674</td>\n",
              "    </tr>\n",
              "    <tr>\n",
              "      <th>2020-01-06</th>\n",
              "      <td>0.000436</td>\n",
              "      <td>0.000174</td>\n",
              "      <td>0.999390</td>\n",
              "    </tr>\n",
              "    <tr>\n",
              "      <th>2020-01-08</th>\n",
              "      <td>0.000252</td>\n",
              "      <td>0.000071</td>\n",
              "      <td>0.999677</td>\n",
              "    </tr>\n",
              "    <tr>\n",
              "      <th>2020-01-09</th>\n",
              "      <td>0.000100</td>\n",
              "      <td>0.999775</td>\n",
              "      <td>0.000125</td>\n",
              "    </tr>\n",
              "  </tbody>\n",
              "</table>\n",
              "</div>"
            ],
            "text/plain": [
              "            negative_score  neutral_score  positive_score\n",
              "2020-01-02        0.997598       0.001034        0.001368\n",
              "2020-01-03        0.000223       0.000103        0.999674\n",
              "2020-01-06        0.000436       0.000174        0.999390\n",
              "2020-01-08        0.000252       0.000071        0.999677\n",
              "2020-01-09        0.000100       0.999775        0.000125"
            ]
          },
          "execution_count": 22,
          "metadata": {},
          "output_type": "execute_result"
        }
      ],
      "source": [
        "# removendo os finais de semana (caso existam)\n",
        "# filtrando os dados de stock para os dias uteis\n",
        "nyse = mcal.get_calendar('NYSE')\n",
        "dias_uteis = nyse.valid_days(start_date=ts_scores.index[0], end_date=ts_scores.index[-1])\n",
        "# Pegar so a data\n",
        "dias_uteis = [dia.date() for dia in dias_uteis]\n",
        "\n",
        "# Converter os índices de ts_scores para datas\n",
        "ts_scores.index = ts_scores.index.date\n",
        "\n",
        "ts_scores_wd = ts_scores.loc[ts_scores.index.intersection(dias_uteis)]\n",
        "\n",
        "#clear_output() # não existem erros se não podemos vê-los\n",
        "\n",
        "ts_scores_wd.head()"
      ]
    },
    {
      "cell_type": "code",
      "execution_count": 23,
      "metadata": {},
      "outputs": [
        {
          "data": {
            "text/html": [
              "<div>\n",
              "<style scoped>\n",
              "    .dataframe tbody tr th:only-of-type {\n",
              "        vertical-align: middle;\n",
              "    }\n",
              "\n",
              "    .dataframe tbody tr th {\n",
              "        vertical-align: top;\n",
              "    }\n",
              "\n",
              "    .dataframe thead th {\n",
              "        text-align: right;\n",
              "    }\n",
              "</style>\n",
              "<table border=\"1\" class=\"dataframe\">\n",
              "  <thead>\n",
              "    <tr style=\"text-align: right;\">\n",
              "      <th></th>\n",
              "      <th>negative_score</th>\n",
              "      <th>neutral_score</th>\n",
              "      <th>positive_score</th>\n",
              "      <th>Close</th>\n",
              "    </tr>\n",
              "  </thead>\n",
              "  <tbody>\n",
              "    <tr>\n",
              "      <th>2020-01-02</th>\n",
              "      <td>0.997598</td>\n",
              "      <td>0.001034</td>\n",
              "      <td>0.001368</td>\n",
              "      <td>3257.850098</td>\n",
              "    </tr>\n",
              "    <tr>\n",
              "      <th>2020-01-03</th>\n",
              "      <td>0.000223</td>\n",
              "      <td>0.000103</td>\n",
              "      <td>0.999674</td>\n",
              "      <td>3234.850098</td>\n",
              "    </tr>\n",
              "    <tr>\n",
              "      <th>2020-01-06</th>\n",
              "      <td>0.000436</td>\n",
              "      <td>0.000174</td>\n",
              "      <td>0.999390</td>\n",
              "      <td>3246.280029</td>\n",
              "    </tr>\n",
              "    <tr>\n",
              "      <th>2020-01-08</th>\n",
              "      <td>0.000252</td>\n",
              "      <td>0.000071</td>\n",
              "      <td>0.999677</td>\n",
              "      <td>3253.050049</td>\n",
              "    </tr>\n",
              "    <tr>\n",
              "      <th>2020-01-09</th>\n",
              "      <td>0.000100</td>\n",
              "      <td>0.999775</td>\n",
              "      <td>0.000125</td>\n",
              "      <td>3274.699951</td>\n",
              "    </tr>\n",
              "  </tbody>\n",
              "</table>\n",
              "</div>"
            ],
            "text/plain": [
              "            negative_score  neutral_score  positive_score        Close\n",
              "2020-01-02        0.997598       0.001034        0.001368  3257.850098\n",
              "2020-01-03        0.000223       0.000103        0.999674  3234.850098\n",
              "2020-01-06        0.000436       0.000174        0.999390  3246.280029\n",
              "2020-01-08        0.000252       0.000071        0.999677  3253.050049\n",
              "2020-01-09        0.000100       0.999775        0.000125  3274.699951"
            ]
          },
          "execution_count": 23,
          "metadata": {},
          "output_type": "execute_result"
        }
      ],
      "source": [
        "sp500_values = sp500[['Close']]\n",
        "\n",
        "df = ts_scores_wd.join(sp500_values)\n",
        "df.head()"
      ]
    },
    {
      "cell_type": "code",
      "execution_count": 96,
      "metadata": {},
      "outputs": [],
      "source": [
        "save = True\n",
        "\n",
        "if save:\n",
        "    with open('data/pkl/df.pkl', 'wb') as f:\n",
        "        pickle.dump(df, f)"
      ]
    }
  ],
  "metadata": {
    "colab": {
      "authorship_tag": "ABX9TyNE3Ns8Mekj1PFucHxd5BL8",
      "include_colab_link": true,
      "provenance": []
    },
    "kernelspec": {
      "display_name": "Python 3",
      "name": "python3"
    },
    "language_info": {
      "codemirror_mode": {
        "name": "ipython",
        "version": 3
      },
      "file_extension": ".py",
      "mimetype": "text/x-python",
      "name": "python",
      "nbconvert_exporter": "python",
      "pygments_lexer": "ipython3",
      "version": "3.12.3"
    }
  },
  "nbformat": 4,
  "nbformat_minor": 0
}
