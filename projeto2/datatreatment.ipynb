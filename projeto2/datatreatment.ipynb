{
 "cells": [
  {
   "cell_type": "code",
   "execution_count": 91,
   "metadata": {},
   "outputs": [],
   "source": [
    "import pandas as pd\n",
    "import pickle\n",
    "import os\n",
    "import path"
   ]
  },
  {
   "cell_type": "code",
   "execution_count": 92,
   "metadata": {},
   "outputs": [
    {
     "name": "stdout",
     "output_type": "stream",
     "text": [
      "3974\n"
     ]
    },
    {
     "data": {
      "text/plain": [
       "['Roberto Marsicano ',\n",
       " '@cannedcat.bsky.social',\n",
       " '2024/09/21 13:32:48\\n1h',\n",
       " 'A top-1% fund manager warns Warren Buffett is behaving like he did before the dot-com crash — and says the S&P 500 could see dismal returns for a decade\\n\\n']"
      ]
     },
     "execution_count": 92,
     "metadata": {},
     "output_type": "execute_result"
    }
   ],
   "source": [
    "data_files = os.listdir('data')\n",
    "data_files = [f for f in data_files if f.endswith('.pkl')]\n",
    "\n",
    "with open('data/' + data_files[2], 'rb') as f:\n",
    "    data1 = pickle.load(f)\n",
    "\n",
    "with open('data/' + data_files[3], 'rb') as f:\n",
    "    data2 = pickle.load(f)\n",
    "\n",
    "data = data1 + data2\n",
    "\n",
    "# remove '' and '\\n' from each list element\n",
    "data = [list(\n",
    "        filter(\n",
    "            lambda x: \n",
    "            x != '' and \n",
    "            x != '\\n' and \n",
    "            x != ' ' and \n",
    "            x != ' \\n' and \n",
    "            x != '.' and\n",
    "            x != 'Show menu' and\n",
    "            x != 'Image', d)) for d in data]\n",
    "data = [d for d in data if len(d) > 0]\n",
    "print(len(data))\n",
    "data[0]"
   ]
  },
  {
   "cell_type": "code",
   "execution_count": 93,
   "metadata": {},
   "outputs": [
    {
     "name": "stdout",
     "output_type": "stream",
     "text": [
      "2121\n"
     ]
    },
    {
     "data": {
      "text/plain": [
       "['Roberto Marsicano ',\n",
       " '@cannedcat.bsky.social',\n",
       " '2024/09/21 13:32:48\\n1h',\n",
       " 'A top-1% fund manager warns Warren Buffett is behaving like he did before the dot-com crash — and says the S&P 500 could see dismal returns for a decade\\n\\n']"
      ]
     },
     "execution_count": 93,
     "metadata": {},
     "output_type": "execute_result"
    }
   ],
   "source": [
    "# now we have two classes:\n",
    "# the ones with len = 4 and the rest\n",
    "index4 = [i for i, d in enumerate(data) if len(d) == 4]\n",
    "data4 = [d for d in data if len(d) == 4] # name, user, date, text\n",
    "print(len(data4))\n",
    "data4[0]"
   ]
  },
  {
   "cell_type": "code",
   "execution_count": 94,
   "metadata": {},
   "outputs": [
    {
     "name": "stdout",
     "output_type": "stream",
     "text": [
      "1853\n"
     ]
    }
   ],
   "source": [
    "dataRest = [d for d in data if len(d) != 4]\n",
    "print(len(dataRest))"
   ]
  },
  {
   "cell_type": "code",
   "execution_count": 95,
   "metadata": {},
   "outputs": [
    {
     "name": "stdout",
     "output_type": "stream",
     "text": [
      "674\n"
     ]
    },
    {
     "data": {
      "text/plain": [
       "['@ilainme.bsky.social',\n",
       " '@IlainME  Voting for Freedom: Harris/Walz 2024 Not Going Back',\n",
       " '2024/09/20 15:51:37\\n22h',\n",
       " 'S&P 500, Dow notch record highs after Fed rate cut\\n\\n']"
      ]
     },
     "execution_count": 95,
     "metadata": {},
     "output_type": "execute_result"
    }
   ],
   "source": [
    "index5 = [i for i, d in enumerate(dataRest) if len(d) == 5]\n",
    "data5 = [d for d in dataRest if len(d) == 5]\n",
    "# removing last element from each list\n",
    "data5 = [d[:-1] for d in data5]\n",
    "print(len(data5))\n",
    "data5[0]"
   ]
  },
  {
   "cell_type": "code",
   "execution_count": 96,
   "metadata": {},
   "outputs": [
    {
     "name": "stdout",
     "output_type": "stream",
     "text": [
      "2795\n"
     ]
    },
    {
     "data": {
      "text/plain": [
       "['Roberto Marsicano ',\n",
       " '@cannedcat.bsky.social',\n",
       " '2024/09/21 13:32:48\\n1h',\n",
       " 'A top-1% fund manager warns Warren Buffett is behaving like he did before the dot-com crash — and says the S&P 500 could see dismal returns for a decade\\n\\n']"
      ]
     },
     "execution_count": 96,
     "metadata": {},
     "output_type": "execute_result"
    }
   ],
   "source": [
    "new_index4 = []\n",
    "new_data4 = data4 + data5\n",
    "print(len(new_data4))\n",
    "new_data4[0]"
   ]
  },
  {
   "cell_type": "code",
   "execution_count": 97,
   "metadata": {},
   "outputs": [
    {
     "name": "stdout",
     "output_type": "stream",
     "text": [
      "1179\n",
      "True\n"
     ]
    }
   ],
   "source": [
    "dataRest = [d for d in dataRest if len(d) != 5]\n",
    "print(len(dataRest))\n",
    "\n",
    "print(len(dataRest) + len(new_data4) == len(data))"
   ]
  },
  {
   "cell_type": "code",
   "execution_count": 98,
   "metadata": {},
   "outputs": [
    {
     "name": "stdout",
     "output_type": "stream",
     "text": [
      "138\n",
      "81\n"
     ]
    },
    {
     "data": {
      "text/plain": [
       "['@beadoz.bsky.social',\n",
       " '2024/09/20 20:10:38\\n18h',\n",
       " 'The S&P 500 will plunge 32% in 2025 as a recession finally hits the US economy, BCA Research predicts. The firm said the Fed will fail to prevent a recession as it takes its time cutting interest rates. Rising unemployment and constrained credit will curb consumer spending, worsening the downturn.']"
      ]
     },
     "execution_count": 98,
     "metadata": {},
     "output_type": "execute_result"
    }
   ],
   "source": [
    "data3 = [d for d in dataRest if len(d) == 3]\n",
    "# im guessing: user, date, text\n",
    "print(len(data3)) \n",
    "# assert first element of each starts with '@'\n",
    "# if not, drop it\n",
    "new_data3 = [d for d in data3 if d[0].startswith('@')]\n",
    "print(len(new_data3))\n",
    "data3[0]"
   ]
  },
  {
   "cell_type": "code",
   "execution_count": 99,
   "metadata": {},
   "outputs": [
    {
     "name": "stdout",
     "output_type": "stream",
     "text": [
      "1041\n"
     ]
    }
   ],
   "source": [
    "dataRest = [d for d in dataRest if len(d) != 3]\n",
    "print(len(dataRest))"
   ]
  },
  {
   "cell_type": "code",
   "execution_count": 100,
   "metadata": {},
   "outputs": [
    {
     "name": "stdout",
     "output_type": "stream",
     "text": [
      "81\n"
     ]
    },
    {
     "data": {
      "text/plain": [
       "['null',\n",
       " '@beadoz.bsky.social',\n",
       " '2024/09/20 20:10:38\\n18h',\n",
       " 'The S&P 500 will plunge 32% in 2025 as a recession finally hits the US economy, BCA Research predicts. The firm said the Fed will fail to prevent a recession as it takes its time cutting interest rates. Rising unemployment and constrained credit will curb consumer spending, worsening the downturn.']"
      ]
     },
     "execution_count": 100,
     "metadata": {},
     "output_type": "execute_result"
    }
   ],
   "source": [
    "# prepend 'null' to each list element in data3\n",
    "new_data3_ = [['null'] + d for d in new_data3]\n",
    "print(len(new_data3_))\n",
    "new_data3_[0]"
   ]
  },
  {
   "cell_type": "code",
   "execution_count": 101,
   "metadata": {},
   "outputs": [],
   "source": [
    "new_data = new_data4 + new_data3_"
   ]
  },
  {
   "cell_type": "code",
   "execution_count": 161,
   "metadata": {},
   "outputs": [],
   "source": [
    "import tldextract\n",
    "import re\n",
    "import emoji\n",
    "import unicodedata\n",
    "\n",
    "def treat_text(text):\n",
    "    words = text.split()\n",
    "    # remove '(' and ')' from each word\n",
    "    words = [w.replace('(', '').replace(')', '') for w in words]\n",
    "    cleaned_words = []\n",
    "    for word in words:\n",
    "        ext = tldextract.extract(word)\n",
    "        if ext.domain and ext.suffix:\n",
    "            # Detected as a URL, skip it\n",
    "            continue\n",
    "        cleaned_words.append(word)\n",
    "    # drop single word texts\n",
    "    if len(words) == 1:\n",
    "        return ''\n",
    "    return ' '.join(cleaned_words)\n",
    "\n",
    "def normalize_text(text):\n",
    "    # Remover acentos e caracteres especiais\n",
    "    text = unicodedata.normalize('NFKD', text).encode('ascii', 'ignore').decode('utf-8')\n",
    "    # Remover emojis\n",
    "    emoji_pattern = re.compile(\n",
    "        \"[\"\n",
    "        u\"\\U0001F600-\\U0001F64F\"  # Emoticons\n",
    "        u\"\\U0001F300-\\U0001F5FF\"  # Símbolos e pictogramas\n",
    "        u\"\\U0001F680-\\U0001F6FF\"  # Transportes e símbolos de mapa\n",
    "        u\"\\U0001F1E0-\\U0001F1FF\"  # Bandeiras (iOS)\n",
    "        u\"\\U00002702-\\U000027B0\"\n",
    "        u\"\\U000024C2-\\U0001F251\"\n",
    "        \"]+\", flags=re.UNICODE)\n",
    "    text = emoji_pattern.sub(r'', text)\n",
    "    # Converter para letras minúsculas\n",
    "    text = text.lower()\n",
    "    return text"
   ]
  },
  {
   "cell_type": "code",
   "execution_count": 166,
   "metadata": {},
   "outputs": [],
   "source": [
    "df = pd.DataFrame(new_data, columns=['name', 'user', 'date', 'text'])"
   ]
  },
  {
   "cell_type": "code",
   "execution_count": 167,
   "metadata": {},
   "outputs": [],
   "source": [
    "# drop date values that are not numeric\n",
    "df = df[df['date'].apply(lambda x: x.split()[0][0].isnumeric())]\n",
    "\n",
    "# drop user values that are not starting with '@'\n",
    "df = df[df['user'].apply(lambda x: x.startswith('@'))]\n",
    "\n",
    "# remove urls and '()' from each text\n",
    "df['text'] = df['text'].apply(treat_text)\n",
    "\n",
    "# remove empty texts\n",
    "df = df[df['text'] != '']"
   ]
  },
  {
   "cell_type": "code",
   "execution_count": 168,
   "metadata": {},
   "outputs": [],
   "source": [
    "from langdetect import detect\n",
    "\n",
    "def is_not_english(text):\n",
    "    try:\n",
    "        return detect(text) != 'en'\n",
    "    except:\n",
    "        return True\n",
    "    \n",
    "df['is_not_english'] = df['text'].apply(is_not_english)"
   ]
  },
  {
   "cell_type": "code",
   "execution_count": 171,
   "metadata": {},
   "outputs": [
    {
     "name": "stderr",
     "output_type": "stream",
     "text": [
      "100%|██████████| 732/732 [11:03<00:00,  1.10it/s]\n"
     ]
    }
   ],
   "source": [
    "from googletrans import Translator\n",
    "from tqdm import tqdm\n",
    "import time\n",
    "\n",
    "def translate_text(text, retries=3, delay=5):\n",
    "    translator = Translator()\n",
    "    for i in range(retries):\n",
    "        try:\n",
    "            return translator.translate(text).text\n",
    "        except Exception as e:\n",
    "            if i < retries - 1:\n",
    "                print(f\"Erro: {e}. Tentando novamente em {delay} segundos...\")\n",
    "                time.sleep(delay)\n",
    "            else:\n",
    "                print(f\"Falha ao traduzir o texto após {retries} tentativas.\")\n",
    "                return text  # Retorna o texto original em caso de falha\n",
    "\n",
    "# Adicionar uma barra de progresso\n",
    "tqdm.pandas()\n",
    "\n",
    "# if df['is_not_english'] is True, translate text to a new column else, keep the original text\n",
    "df['translated_text'] = df['text']\n",
    "df.loc[df['is_not_english'], 'translated_text'] = df.loc[df['is_not_english'], 'text'].progress_apply(translate_text)"
   ]
  },
  {
   "cell_type": "code",
   "execution_count": 174,
   "metadata": {},
   "outputs": [],
   "source": [
    "df['translated_text'] = df['translated_text'].apply(normalize_text)\n",
    "\n",
    "df = df.drop(columns=['is_not_english'])\n",
    "df['text'] = df['translated_text']\n",
    "df = df.drop(columns=['translated_text'])"
   ]
  },
  {
   "cell_type": "code",
   "execution_count": 175,
   "metadata": {},
   "outputs": [
    {
     "data": {
      "text/plain": [
       "466"
      ]
     },
     "execution_count": 175,
     "metadata": {},
     "output_type": "execute_result"
    }
   ],
   "source": [
    "# split every date value and see unique values\n",
    "len(df['date'].apply(lambda x: x.split()[0]).unique())"
   ]
  },
  {
   "cell_type": "code",
   "execution_count": 176,
   "metadata": {},
   "outputs": [
    {
     "data": {
      "text/plain": [
       "2550"
      ]
     },
     "execution_count": 176,
     "metadata": {},
     "output_type": "execute_result"
    }
   ],
   "source": [
    "len(df)"
   ]
  },
  {
   "cell_type": "code",
   "execution_count": 177,
   "metadata": {},
   "outputs": [],
   "source": [
    "with open('data/df_snapshot2.pkl', 'wb') as f:\n",
    "    pickle.dump(df, f)"
   ]
  },
  {
   "cell_type": "code",
   "execution_count": 178,
   "metadata": {},
   "outputs": [
    {
     "data": {
      "text/plain": [
       "'nikkei 225 closing price: 36391.469 yen before hinoto: -0.72% s & p 500: 5503.41 the day from the previous day: -0.3% nasdaq composite: 17127.66 the previous day:+0.25% vix: 19.9 the previous day: -6.66%'"
      ]
     },
     "execution_count": 178,
     "metadata": {},
     "output_type": "execute_result"
    }
   ],
   "source": [
    "df[df['user'] == '@financebot.bsky.social'].iloc[0]['text']"
   ]
  },
  {
   "cell_type": "code",
   "execution_count": 183,
   "metadata": {},
   "outputs": [
    {
     "name": "stdout",
     "output_type": "stream",
     "text": [
      "['live: dow tumbles 1,000 points, s&p 500 posts worst day since 2022 in global market sell-off'\n",
      " 'the s&p 500, which is a better indicator of the health of the economy, is up even more that the dji:'\n",
      " 'the typical s&p 500 company ceo received an average of $17.7 million in 2023, 268 times more than their median employees pay. a typical worker would have had to begin working before the american revolution to earn what s&p 500 company ceos made on average in just one year. '\n",
      " 'the s&p 500 is up 25% this year. have patience and a long-term mindset when it comes to investing. long term investing transfers wealth to the patient from the impatient. investing may be risky in the short term, but not investing is riskier in the long term.'\n",
      " 'the us s & p 500 index market 5,000 lessons...6 consecutive trading days'\n",
      " 'he just started talking about the s&p 500 lmao'\n",
      " 's&p 500 mutual fund fees dilemma'\n",
      " 'nikkei 225 closing price: 31624.279 yen before hikini: -2.05 s & p 500: 4405.71 the previous day: +0.67 nasdaq composite: 13590.65 the previous day: +0.94 vix: 15.68 the previous day'\n",
      " ' s&p 500 to end 2024 around current levels after strong run: reuters poll full story '\n",
      " \"what's the phrase? ah yes, irrational exuberance\"]\n"
     ]
    }
   ],
   "source": [
    "print(df['text'].sample(10).values)"
   ]
  },
  {
   "cell_type": "markdown",
   "metadata": {},
   "source": [
    "Essa parte para baixo não foi utilizada"
   ]
  },
  {
   "cell_type": "code",
   "execution_count": 84,
   "metadata": {},
   "outputs": [
    {
     "data": {
      "text/plain": [
       "['The US stock market S&P 500 today closed at a new record high.\\n\\nThis is awesome news for the view on Democratic economic policies, and very inconsistent with Trump\\'s \"America is going to hell\" message […]',\n",
       " 'mastodon.social\\nOriginal post on mastodon.social']"
      ]
     },
     "execution_count": 84,
     "metadata": {},
     "output_type": "execute_result"
    }
   ],
   "source": [
    "[d for d in dataRest if len(d) == 2][0]"
   ]
  },
  {
   "cell_type": "code",
   "execution_count": 85,
   "metadata": {},
   "outputs": [
    {
     "name": "stdout",
     "output_type": "stream",
     "text": [
      "543\n"
     ]
    },
    {
     "data": {
      "text/plain": [
       "'A top-1% fund manager warns Warren Buffett is behaving like he did before the dot-com crash — and says the S&P 500 could see dismal returns for a decade'"
      ]
     },
     "execution_count": 85,
     "metadata": {},
     "output_type": "execute_result"
    }
   ],
   "source": [
    "import tldextract\n",
    "\n",
    "def treat_text(text):\n",
    "    words = text.split()\n",
    "    # remove '(' and ')' from each word\n",
    "    words = [w.replace('(', '').replace(')', '') for w in words]\n",
    "    cleaned_words = []\n",
    "    for word in words:\n",
    "        ext = tldextract.extract(word)\n",
    "        if ext.domain and ext.suffix:\n",
    "            # Detected as a URL, skip it\n",
    "            continue\n",
    "        cleaned_words.append(word)\n",
    "    # drop single word texts\n",
    "    if len(words) == 1:\n",
    "        return ''\n",
    "    return ' '.join(cleaned_words)\n",
    "\n",
    "\n",
    "data1 = [d for d in dataRest if len(d) == 1]\n",
    "data1_cleaned = [treat_text(d[0]) for d in data1]\n",
    "# im guessing: text\n",
    "print(len(data1_cleaned))\n",
    "data1_cleaned[0]"
   ]
  }
 ],
 "metadata": {
  "kernelspec": {
   "display_name": ".local",
   "language": "python",
   "name": "python3"
  },
  "language_info": {
   "codemirror_mode": {
    "name": "ipython",
    "version": 3
   },
   "file_extension": ".py",
   "mimetype": "text/x-python",
   "name": "python",
   "nbconvert_exporter": "python",
   "pygments_lexer": "ipython3",
   "version": "3.12.3"
  }
 },
 "nbformat": 4,
 "nbformat_minor": 2
}
