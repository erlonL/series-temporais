{
 "cells": [
  {
   "cell_type": "code",
   "execution_count": 1,
   "metadata": {},
   "outputs": [],
   "source": [
    "import requests\n",
    "from bs4 import BeautifulSoup\n",
    "from selenium import webdriver\n",
    "from selenium.webdriver import Firefox\n",
    "from selenium.webdriver import FirefoxOptions\n",
    "from selenium.webdriver.common.keys import Keys\n",
    "from selenium.webdriver.firefox.service import Service\n",
    "from selenium.webdriver.common.by import By\n",
    "from selenium.webdriver.support.ui import WebDriverWait\n",
    "from selenium.webdriver.support import expected_conditions as EC\n",
    "from selenium.common.exceptions import ElementClickInterceptedException\n",
    "from selenium.common.exceptions import StaleElementReferenceException\n",
    "from time import sleep\n",
    "from selenium.webdriver.common.by import By\n",
    "import pandas as pd\n",
    "import pickle\n",
    "import psutil\n",
    "import numpy as np\n",
    "\n",
    "from selenium.webdriver import ActionChains\n",
    "from selenium.webdriver.common.actions.action_builder import ActionBuilder\n",
    "from selenium.webdriver.common.actions.mouse_button import MouseButton"
   ]
  },
  {
   "cell_type": "code",
   "execution_count": 2,
   "metadata": {},
   "outputs": [],
   "source": [
    "import dotenv\n",
    "import os\n",
    "\n",
    "dotenv.load_dotenv()\n",
    "\n",
    "user = os.getenv(\"BSKY_USER\")\n",
    "password = os.getenv(\"BSKY_PASS\")"
   ]
  },
  {
   "cell_type": "markdown",
   "metadata": {},
   "source": [
    "https://bsky.app/profile/did:plc:kkf4naxqmweop7dv4l2iqqf5/feed/verified-news  \n",
    "https://bsky.app/search?q=s%26p+500  \n",
    "https://deck.blue/  "
   ]
  },
  {
   "cell_type": "code",
   "execution_count": 3,
   "metadata": {},
   "outputs": [],
   "source": [
    "opts = FirefoxOptions()\n",
    "opts.add_argument(\"--width=400\")\n",
    "opts.add_argument(\"--height=800\")\n",
    "service = Service('/snap/bin/firefox.geckodriver')\n",
    "#opts.add_argument('--headless')"
   ]
  },
  {
   "cell_type": "code",
   "execution_count": 4,
   "metadata": {},
   "outputs": [],
   "source": [
    "try:\n",
    "  nv.quit()\n",
    "  del nv\n",
    "except:\n",
    "    pass\n",
    "nv = webdriver.Firefox(options = opts, service=service)\n",
    "\n",
    "nv.get('https://deck.blue/')\n",
    "sleep(10)"
   ]
  },
  {
   "cell_type": "code",
   "execution_count": 5,
   "metadata": {},
   "outputs": [],
   "source": [
    "script = \"\"\"\n",
    "var glassPane = document.querySelector('flt-glass-pane');\n",
    "if (glassPane) {\n",
    "    var shadowRoot = glassPane.shadowRoot;\n",
    "    if (shadowRoot) {\n",
    "        var semanticsPlaceholder = shadowRoot.querySelector('flt-semantics-placeholder');\n",
    "        if (semanticsPlaceholder) {\n",
    "            semanticsPlaceholder.click({force: true});\n",
    "        } else {\n",
    "            console.error('Elemento flt-semantics-placeholder não encontrado.');\n",
    "        }\n",
    "    } else {\n",
    "        console.error('shadowRoot de flt-glass-pane não encontrado.');\n",
    "    }\n",
    "} else {\n",
    "    console.error('Elemento flt-glass-pane não encontrado.');\n",
    "}\n",
    "\"\"\""
   ]
  },
  {
   "cell_type": "code",
   "execution_count": 6,
   "metadata": {},
   "outputs": [],
   "source": [
    "nv.execute_script(script)"
   ]
  },
  {
   "cell_type": "code",
   "execution_count": 7,
   "metadata": {},
   "outputs": [],
   "source": [
    "inputs = nv.find_elements(By.TAG_NAME, 'input')\n",
    "\n",
    "username_ipt = inputs[0]\n",
    "password_ipt = inputs[1]\n",
    "\n",
    "username_ipt.click()\n",
    "username_ipt.send_keys(user)\n",
    "sleep(3)"
   ]
  },
  {
   "cell_type": "code",
   "execution_count": 8,
   "metadata": {},
   "outputs": [],
   "source": [
    "for _ in range(20):\n",
    "    wait = WebDriverWait(nv, 10)\n",
    "    wait.until(EC.element_to_be_clickable((By.TAG_NAME, 'input')))\n",
    "\n",
    "    try:\n",
    "        # Tentar clicar no elemento\n",
    "        password_ipt.click()\n",
    "        sleep(1)\n",
    "    except ElementClickInterceptedException:\n",
    "        # Usar JavaScript para clicar no elemento se o clique normal falhar\n",
    "        nv.execute_script(\"arguments[0].click();\", password_ipt)\n",
    "# Enviar a senha para o campo de entrada\n",
    "password_ipt.send_keys(password)\n",
    "sleep(1)\n",
    "password_ipt.send_keys(password)"
   ]
  },
  {
   "cell_type": "code",
   "execution_count": 9,
   "metadata": {},
   "outputs": [],
   "source": [
    "# click on login\n",
    "login_btn = nv.find_element(By.XPATH, '//flt-semantics[@aria-label=\"Login\"]')\n",
    "login_btn.click()\n",
    "\n",
    "sleep(10)"
   ]
  },
  {
   "cell_type": "code",
   "execution_count": 31,
   "metadata": {},
   "outputs": [],
   "source": [
    "nv.execute_script(script)"
   ]
  },
  {
   "cell_type": "code",
   "execution_count": 11,
   "metadata": {},
   "outputs": [
    {
     "name": "stdout",
     "output_type": "stream",
     "text": [
      "[['🦋Jenny Q Ta', '@jennyqta.bsky.social', '2023/06/09 13:26:10\\n1y', 'Interesting 🤨🧐🤔\\n\\nDow, Nasdaq and S&P 500 are rising but most stocks are falling\\n\\n', 'stocks.apple.com\\nDow, Nasdaq and S&P 500 are rising but most stocks are falling', 'Show menu'], ['BizToc', '@biztoc.com', '2023/06/09 04:43:34\\n1y', \"Asia markets rise as S&P 500 hits new 2023 high, China's producer price index falls\\n#asiapacificregion #metalgear #silenthill #fastretailing #mitsui #daikinindustries\\n\\n➡️ Now on \", ' — ', 'Show menu'], ['Sketchy News', '@sketchynews.net', '2023/06/09 00:30:14\\n1y', \" (finance.yahoo.com) Fundstrat head of research Tom Lee believes investors aren't bullish enough on a rally in the S&P 500 to continue throughout 2023.\", 'Show menu'], ['Blurry TV Headlines', '@blurrytvheadlines.numbergoup.com', '2023/06/08 17:00:58\\n1y', 'S&P 500 RISES 20% FROM OCTOBER LOW TO ENTER BULL MARKET', 'Show menu'], ['BizToc', '@biztoc.com', '2023/06/08 04:46:12\\n1y', 'S&P 500’s Climb Toward Bull Market Thwarted by Canada Rate Move\\n#dow\\n\\n➡️ Now on ', ' — ', 'Show menu'], ['Sketchy News', '@sketchynews.net', '2023/06/07 20:16:03\\n1y', ' (cnbc.com) The S&P 500 closed at its highest level of the year on Tuesday.', 'Show menu']]\n"
     ]
    }
   ],
   "source": [
    "feed = nv.find_element(By.XPATH, '//flt-semantics[@id=\"flt-semantic-node-49\"]')\n",
    "# find child element flt-semantics-container\n",
    "#container1 = feed.find_element(By.XPATH, '//flt-semantics-container')\n",
    "\n",
    "# get all flt-semantics-container child elements\n",
    "# and select last one\n",
    "elementos = nv.find_elements(By.XPATH, '//flt-semantics-container')\n",
    "elementos_filtrados = []\n",
    "for elemento in elementos:\n",
    "    style = elemento.get_attribute('style')\n",
    "    if ('position: absolute;' in style and\n",
    "        'pointer-events: none;' in style and\n",
    "        'top: 10px;' in style and\n",
    "        'left: 0px;' in style):\n",
    "        elementos_filtrados.append(elemento)\n",
    "\n",
    "_feed = elementos_filtrados[0]\n",
    "soup = BeautifulSoup(_feed.get_attribute('innerHTML'), 'html.parser')\n",
    "# get all aria-label values\n",
    "labels = [x.attrs['aria-label'] for x in soup.find_all('flt-semantics') if 'aria-label' in x.attrs]\n",
    "\n",
    "parent_labels = []\n",
    "child_labels = []\n",
    "for label in labels[1:]:\n",
    "    if 'Reply' in label:\n",
    "        #print(child_labels)\n",
    "        parent_labels.append(child_labels)\n",
    "        child_labels = []\n",
    "    else:\n",
    "        child_labels.append(label)    \n",
    "\n",
    "print(parent_labels)\n",
    "\n",
    "\n",
    "#_post = _feed.find_element(By.XPATH, f'{_feed.get_attribute(\"xpath\")}//flt-semantics-container')\n",
    "#_post_card = _post.find_element(By.XPATH, '//flt-semantics-container//flt-semantics//flt-semantics-container')\n",
    "#_soup = BeautifulSoup(_post.get_attribute('innerHTML'), 'html.parser')\n",
    "\n",
    "#print(_soup.prettify())\n",
    "#elhtml = elementos_filtrados[0].find_elements(By.TAG_NAME, 'flt-semantics')[0].get_attribute('outerHTML')\n",
    "\n",
    "#soup = BeautifulSoup(elhtml, 'html.parser')\n",
    "# get all aria-label values\n",
    "#labels = [x.attrs['aria-label'] for x in soup.find_all('flt-semantics') if 'aria-label' in x.attrs]\n",
    "#labels"
   ]
  },
  {
   "cell_type": "code",
   "execution_count": 28,
   "metadata": {},
   "outputs": [],
   "source": [
    "unique_posts = []\n",
    "#container_children = container.find_elements(By.XPATH, '//flt-semantics')\n",
    "feed = None\n",
    "\n",
    "try:\n",
    "    elementos = nv.find_elements(By.XPATH, '//flt-semantics-container')\n",
    "    for elemento in elementos:\n",
    "        style = elemento.get_attribute('style')\n",
    "        if ('position: absolute;' in style and\n",
    "            'pointer-events: none;' in style and\n",
    "            'top: 10px;' in style and\n",
    "            'left: 0px;' in style):\n",
    "            feed = elemento\n",
    "            break\n",
    "except Exception as e:\n",
    "    print(f'Error in feed choice: {e}')\n",
    "\n",
    "\n",
    "feed_scroll = None\n",
    "try:\n",
    "    elementos_ = nv.find_elements(By.XPATH, '//flt-semantics')\n",
    "    for elemento in elementos_:\n",
    "        style = elemento.get_attribute('style')\n",
    "        if ('position: absolute;' in style and\n",
    "            'pointer-events: none;' in style and\n",
    "            'width: 350px;' in style and\n",
    "            'height: 659px;' in style):\n",
    "            feed_scroll = elemento\n",
    "            break\n",
    "except Exception as e:\n",
    "    print(f'Error in feed scroll choice: {e}')"
   ]
  },
  {
   "cell_type": "code",
   "execution_count": 29,
   "metadata": {},
   "outputs": [
    {
     "data": {
      "text/plain": [
       "'flt-semantic-node-49'"
      ]
     },
     "execution_count": 29,
     "metadata": {},
     "output_type": "execute_result"
    }
   ],
   "source": [
    "feed_scroll_html = feed_scroll.get_attribute('outerHTML')\n",
    "feed_scroll_soup = BeautifulSoup(feed_scroll_html, 'html.parser')\n",
    "\n",
    "# find feed_scroll id\n",
    "feed_scroll_id = feed_scroll_soup.find('flt-semantics').attrs['id']\n",
    "feed_scroll_id"
   ]
  },
  {
   "cell_type": "code",
   "execution_count": 34,
   "metadata": {},
   "outputs": [
    {
     "name": "stdout",
     "output_type": "stream",
     "text": [
      "Iteração: 0\n",
      "Post count: 5\n",
      "Iteração: 1\n",
      "Post count: 8\n",
      "Iteração: 2\n",
      "Post count: 12\n",
      "Iteração: 3\n",
      "Post count: 15\n",
      "Iteração: 4\n",
      "Post count: 17\n",
      "Iteração: 5\n",
      "Post count: 20\n",
      "Iteração: 6\n",
      "Post count: 24\n",
      "Iteração: 7\n",
      "Post count: 26\n",
      "Iteração: 8\n",
      "Post count: 28\n",
      "Iteração: 9\n",
      "Post count: 31\n",
      "Iteração: 10\n",
      "Post count: 35\n",
      "Iteração: 11\n",
      "Post count: 38\n",
      "Iteração: 12\n",
      "Post count: 39\n",
      "Iteração: 13\n",
      "Post count: 39\n",
      "Iteração: 14\n",
      "Post count: 39\n",
      "Iteração: 15\n",
      "Post count: 39\n",
      "Iteração: 16\n",
      "Post count: 39\n",
      "Iteração: 17\n",
      "Post count: 39\n",
      "Iteração: 18\n",
      "Post count: 39\n",
      "Iteração: 19\n",
      "Post count: 39\n",
      "Iteração: 20\n",
      "Post count: 39\n",
      "Iteração: 21\n",
      "Post count: 39\n",
      "Iteração: 22\n",
      "Post count: 39\n",
      "Iteração: 23\n",
      "Post count: 39\n"
     ]
    },
    {
     "ename": "KeyboardInterrupt",
     "evalue": "",
     "output_type": "error",
     "traceback": [
      "\u001b[0;31m---------------------------------------------------------------------------\u001b[0m",
      "\u001b[0;31mKeyboardInterrupt\u001b[0m                         Traceback (most recent call last)",
      "Cell \u001b[0;32mIn[34], line 35\u001b[0m\n\u001b[1;32m     32\u001b[0m     \u001b[38;5;28mprint\u001b[39m(\u001b[38;5;124mf\u001b[39m\u001b[38;5;124m'\u001b[39m\u001b[38;5;124mPost count: \u001b[39m\u001b[38;5;132;01m{\u001b[39;00m\u001b[38;5;28mlen\u001b[39m(unique_posts)\u001b[38;5;132;01m}\u001b[39;00m\u001b[38;5;124m'\u001b[39m)\n\u001b[1;32m     34\u001b[0m     feed_scroll\u001b[38;5;241m.\u001b[39msend_keys(Keys\u001b[38;5;241m.\u001b[39mPAGE_DOWN)\n\u001b[0;32m---> 35\u001b[0m     \u001b[43msleep\u001b[49m\u001b[43m(\u001b[49m\u001b[38;5;241;43m1\u001b[39;49m\u001b[43m)\u001b[49m\n\u001b[1;32m     36\u001b[0m \u001b[38;5;28;01mexcept\u001b[39;00m \u001b[38;5;167;01mException\u001b[39;00m \u001b[38;5;28;01mas\u001b[39;00m e:\n\u001b[1;32m     37\u001b[0m     \u001b[38;5;28mprint\u001b[39m(\u001b[38;5;124mf\u001b[39m\u001b[38;5;124m'\u001b[39m\u001b[38;5;124mError in scrolling: \u001b[39m\u001b[38;5;132;01m{\u001b[39;00me\u001b[38;5;132;01m}\u001b[39;00m\u001b[38;5;124m'\u001b[39m)\n",
      "\u001b[0;31mKeyboardInterrupt\u001b[0m: "
     ]
    }
   ],
   "source": [
    "scroll_count = 100000\n",
    "for _ in range(scroll_count):\n",
    "    if psutil.virtual_memory().percent >= 85:\n",
    "        print('Memory usage is too high. Exiting...')\n",
    "        print(f'last unique post: {unique_posts[-1]}')\n",
    "        random_nbr = str(np.random.randint(0, 100000))\n",
    "        with open(f'sp500_bskyhtml-exit_{random_nbr}.pkl', 'wb') as f:\n",
    "            pickle.dump(unique_posts, f)\n",
    "        break\n",
    "    try:\n",
    "        feed_scroll = nv.find_element(By.XPATH, '//flt-semantics[@id=\"flt-semantic-node-125\"]')\n",
    "        #containers = feed_scroll.find_elements(By.XPATH, '//flt-semantics-container')\n",
    "\n",
    "        soup = BeautifulSoup(feed.get_attribute('innerHTML'), 'html.parser')\n",
    "        labels = [x.attrs['aria-label'] for x in soup.find_all('flt-semantics') if 'aria-label' in x.attrs]\n",
    "        \n",
    "        parent_labels = []\n",
    "        child_labels = []\n",
    "        for label in labels[1:]:\n",
    "            if 'Reply' in label:\n",
    "                #print(child_labels)\n",
    "                parent_labels.append(child_labels)\n",
    "                child_labels = []\n",
    "            else:\n",
    "                child_labels.append(label) \n",
    "\n",
    "        for post in parent_labels:\n",
    "            if post not in unique_posts:\n",
    "                unique_posts.append(post)\n",
    "\n",
    "        print(f'Iteração: {_}')\n",
    "        print(f'Post count: {len(unique_posts)}')\n",
    "\n",
    "        feed_scroll.send_keys(Keys.PAGE_DOWN)\n",
    "        sleep(1)\n",
    "    except Exception as e:\n",
    "        print(f'Error in scrolling: {e}')\n",
    "        break\n",
    "with open('sp500_bskyhtml.pkl', 'wb') as f:\n",
    "    pickle.dump(unique_posts, f)"
   ]
  },
  {
   "cell_type": "code",
   "execution_count": 35,
   "metadata": {},
   "outputs": [
    {
     "data": {
      "text/plain": [
       "39"
      ]
     },
     "execution_count": 35,
     "metadata": {},
     "output_type": "execute_result"
    }
   ],
   "source": [
    "len(unique_posts)"
   ]
  },
  {
   "cell_type": "code",
   "execution_count": 38,
   "metadata": {},
   "outputs": [
    {
     "data": {
      "text/plain": [
       "['*companies that make up 20% of S&P 500* \\n\\nwow look how stupid these companies are they can’t do anything right',\n",
       " '2023/05/09 12:00:53\\n@metallurgist.bsky.social\\n1y\\ncontent like this from their editor confirms to me that the verge has no meaningful commentary to be made about tech',\n",
       " 'Show menu']"
      ]
     },
     "execution_count": 38,
     "metadata": {},
     "output_type": "execute_result"
    }
   ],
   "source": [
    "unique_posts[-1]"
   ]
  },
  {
   "cell_type": "code",
   "execution_count": 39,
   "metadata": {},
   "outputs": [],
   "source": [
    "with open('sp500_bskyhtml090523.pkl', 'wb') as f:\n",
    "    pickle.dump(unique_posts, f)"
   ]
  }
 ],
 "metadata": {
  "kernelspec": {
   "display_name": "series-temporais-env",
   "language": "python",
   "name": "python3"
  },
  "language_info": {
   "codemirror_mode": {
    "name": "ipython",
    "version": 3
   },
   "file_extension": ".py",
   "mimetype": "text/x-python",
   "name": "python",
   "nbconvert_exporter": "python",
   "pygments_lexer": "ipython3",
   "version": "3.12.3"
  }
 },
 "nbformat": 4,
 "nbformat_minor": 2
}
